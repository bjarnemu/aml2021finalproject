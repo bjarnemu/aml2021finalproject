{
 "cells": [
  {
   "cell_type": "markdown",
   "metadata": {},
   "source": [
    "## Imports"
   ]
  },
  {
   "cell_type": "markdown",
   "metadata": {},
   "source": [
    "https://www.kaggle.com/mlg-ulb/creditcardfraud"
   ]
  },
  {
   "cell_type": "code",
   "execution_count": 98,
   "metadata": {},
   "outputs": [],
   "source": [
    "import pandas as pd \n",
    "import matplotlib.pyplot as plt\n",
    "import numpy as np\n",
    "import seaborn as sns\n",
    "\n",
    "from sklearn.linear_model import LogisticRegression\n",
    "from sklearn.neighbors import KNeighborsClassifier\n",
    "from sklearn.ensemble import RandomForestClassifier\n",
    "from sklearn.naive_bayes import GaussianNB\n",
    "from sklearn.svm import SVC\n",
    "from sklearn.neural_network import MLPClassifier\n",
    "from sklearn.metrics import roc_curve, confusion_matrix, f1_score, accuracy_score, average_precision_score\n",
    "from sklearn.model_selection import StratifiedKFold, train_test_split\n",
    "from sklearn.dummy import DummyClassifier\n",
    "from sklearn.metrics import precision_recall_curve, auc\n",
    "from sklearn.metrics import plot_precision_recall_curve\n",
    "import keras\n",
    "import tensorflow_addons as tfa\n",
    "import keras.backend as K\n",
    "from tqdm import tqdm\n",
    "plt.style.use(\"seaborn\")"
   ]
  },
  {
   "cell_type": "code",
   "execution_count": 99,
   "metadata": {},
   "outputs": [],
   "source": [
    "records = pd.read_csv('creditcard.csv', delimiter=',', header=0)"
   ]
  },
  {
   "cell_type": "markdown",
   "metadata": {},
   "source": [
    "# Check if data is well-formed"
   ]
  },
  {
   "cell_type": "markdown",
   "metadata": {},
   "source": [
    "## Distribution of fraudulent vs. good transactions\n",
    "Very few fraudulent records"
   ]
  },
  {
   "cell_type": "code",
   "execution_count": 100,
   "metadata": {},
   "outputs": [
    {
     "data": {
      "text/plain": [
       "0    284315\n",
       "1       492\n",
       "Name: Class, dtype: int64"
      ]
     },
     "execution_count": 100,
     "metadata": {},
     "output_type": "execute_result"
    }
   ],
   "source": [
    "records.Class.value_counts()"
   ]
  },
  {
   "cell_type": "markdown",
   "metadata": {},
   "source": [
    "## Normalize data"
   ]
  },
  {
   "cell_type": "code",
   "execution_count": 101,
   "metadata": {},
   "outputs": [],
   "source": [
    "#Mean normalization\n",
    "targets = records.pop('Class')\n",
    "normalized_records=(records-records.mean())/records.std()\n",
    "#normalized_records.hist(figsize=(20,20));"
   ]
  },
  {
   "cell_type": "markdown",
   "metadata": {},
   "source": [
    "## Compare hists between classes"
   ]
  },
  {
   "cell_type": "code",
   "execution_count": 102,
   "metadata": {},
   "outputs": [],
   "source": [
    "records0 = normalized_records[targets==0]\n",
    "records1 = normalized_records[targets==1]\n",
    "#records0.hist(figsize=(20,20));"
   ]
  },
  {
   "cell_type": "code",
   "execution_count": 103,
   "metadata": {},
   "outputs": [],
   "source": [
    "#records1.hist(figsize=(20,20));"
   ]
  },
  {
   "cell_type": "code",
   "execution_count": 104,
   "metadata": {},
   "outputs": [
    {
     "name": "stdout",
     "output_type": "stream",
     "text": [
      "Differences between fraud and non-fraud:\n",
      "Differences in Time\n",
      "Median: 0.19252172971223316\n",
      "Mean: 0.2967350075315986\n",
      "Std: -0.007398674870575661\n",
      "\n",
      "Differences in V1\n",
      "Median: 1.2061703137691455\n",
      "Mean: 2.4405046304538205\n",
      "Std: -2.4781146185470924\n",
      "\n",
      "Differences in V2\n",
      "Median: -1.6070883853499391\n",
      "Mean: -2.198286258857717\n",
      "Std: -1.6078579173914733\n",
      "\n",
      "Differences in V3\n",
      "Median: 3.4673686501116703\n",
      "Mean: 4.64661415234859\n",
      "Std: -3.727280862082994\n",
      "\n",
      "Differences in V4\n",
      "Median: -2.966060774701858\n",
      "Mean: -3.2134966851943867\n",
      "Std: -1.041046096449672\n",
      "\n",
      "Differences in V5\n",
      "Median: 1.0646680521499936\n",
      "Mean: 2.2870389213706708\n",
      "Std: -2.9092742802983906\n",
      "\n",
      "Differences in V6\n",
      "Median: 0.8643081611514458\n",
      "Mean: 1.050953871019782\n",
      "Std: -0.3964738063666099\n",
      "\n",
      "Differences in V7\n",
      "Median: 2.4861012371395548\n",
      "Mean: 4.509252688613915\n",
      "Std: -4.872679520684369\n",
      "\n",
      "Differences in V8\n",
      "Median: -0.5019178436083024\n",
      "Mean: -0.4786050799310731\n",
      "Std: -4.719331507786939\n",
      "\n",
      "Differences in V9\n",
      "Median: 1.9649929610563892\n",
      "Mean: 2.3534625610834463\n",
      "Std: -1.2848010599682733\n",
      "\n",
      "Differences in V10\n",
      "Median: 4.120818890194128\n",
      "Mean: 5.222673278516471\n",
      "Std: -3.5387226478963605\n",
      "\n",
      "Differences in V11\n",
      "Median: -3.5476589227392226\n",
      "Mean: -3.729499783237992\n",
      "Std: -1.6414923392381064\n",
      "\n",
      "Differences in V12\n",
      "Median: 5.648719415419167\n",
      "Mean: 6.27523622871579\n",
      "Std: -3.711483496767802\n",
      "\n",
      "Differences in V13\n",
      "Median: 0.05226664016545861\n",
      "Mean: 0.11004305467275456\n",
      "Std: -0.1099714586122964\n",
      "\n",
      "Differences in V14\n",
      "Median: 7.074585501625502\n",
      "Mean: 7.2854363240133\n",
      "Std: -3.528008393898843\n",
      "\n",
      "Differences in V15\n",
      "Median: 0.11528368103963876\n",
      "Mean: 0.10170209698587174\n",
      "Std: -0.14733210866439805\n",
      "\n",
      "Differences in V16\n",
      "Median: 4.127999815153895\n",
      "Mean: 4.732777296736964\n",
      "Std: -3.4467936884916712\n",
      "\n",
      "Differences in V17\n",
      "Median: 6.167298665268255\n",
      "Mean: 7.8618627966314385\n",
      "Std: -7.324725786843506\n",
      "\n",
      "Differences in V18\n",
      "Median: 1.9823512340403313\n",
      "Mean: 2.6846327639237155\n",
      "Std: -2.4749536619635197\n",
      "\n",
      "Differences in V19\n",
      "Median: -0.7907343642090423\n",
      "Mean: -0.8375961229702373\n",
      "Std: -0.8944520397371998\n",
      "\n",
      "Differences in V20\n",
      "Median: -0.4505486457201574\n",
      "Mean: -0.48378723369756027\n",
      "Std: -0.7487519431132323\n",
      "\n",
      "Differences in V21\n",
      "Median: -0.846762358717146\n",
      "Mean: -0.9731788008130128\n",
      "Std: -4.291978026563235\n",
      "\n",
      "Differences in V22\n",
      "Median: -0.05745939681928009\n",
      "Mean: -0.019392535646349105\n",
      "Std: -1.062328130035516\n",
      "\n",
      "Differences in V23\n",
      "Median: 0.0992674485268181\n",
      "Mean: 0.06466018441945162\n",
      "Std: -1.5342867605199462\n",
      "\n",
      "Differences in V24\n",
      "Median: 0.1682129138539416\n",
      "Mean: 0.17388382838664473\n",
      "Std: 0.14893119800051602\n",
      "\n",
      "Differences in V25\n",
      "Median: -0.13803479213607198\n",
      "Mean: -0.07965156386298933\n",
      "Std: -0.5304875860882277\n",
      "\n",
      "Differences in V26\n",
      "Median: -0.11726497030750754\n",
      "Mean: -0.10728868339981308\n",
      "Std: 0.02190283228164358\n",
      "\n",
      "Differences in V27\n",
      "Median: -0.9753841799472229\n",
      "Mean: -0.42333055388126106\n",
      "Std: -2.4203186008515862\n",
      "\n",
      "Differences in V28\n",
      "Median: -0.40942691128732916\n",
      "Mean: -0.22963366892741047\n",
      "Std: -0.659595811908064\n",
      "\n",
      "Differences in Amount\n",
      "Median: 0.050975509481145154\n",
      "Mean: -0.13561603990553245\n",
      "Std: -0.02630014872375508\n",
      "\n"
     ]
    }
   ],
   "source": [
    "print(\"Differences between fraud and non-fraud:\")\n",
    "for i in records0.keys():\n",
    "    print(\"Differences in\",i)\n",
    "    print(\"Median:\", records0[i].median()-records1[i].median())\n",
    "    print(\"Mean:\", records0[i].mean()-records1[i].mean())\n",
    "    print(\"Std:\", records0[i].std()-records1[i].std())\n",
    "    \n",
    "    print()"
   ]
  },
  {
   "cell_type": "code",
   "execution_count": 105,
   "metadata": {},
   "outputs": [],
   "source": [
    "top10 = ['V3', 'V4', 'V7', 'V10', 'V11', 'V12', 'V14', 'V16', 'V17', 'V18'] #Based on largest difference in median.\n",
    "X = normalized_records[top10].to_numpy()\n",
    "y = targets.to_numpy()"
   ]
  },
  {
   "cell_type": "markdown",
   "metadata": {},
   "source": [
    "### Performance Metrics\n",
    "The function below calculates a series of performance metrics.\n",
    "1. Accuracy - This is the default metric and is not suited for this problem.\n",
    "2. False negatives, False positives, True positives - Gives insight in how it classifies.\n",
    "3. F1 score - Is considered suited for imbalanced datasets.\n",
    "4. AUPRC - Area Under Precision-Recall Curve is the suggested metric from Kaggle.\n",
    "5. AUC ROC - Area Under Curve Receiving Operating Characteristic is widely used for this specific task, but not good for imbalanced datasets\n",
    "6. Average Precision - Should be a good overall measure for this task. \n",
    "7. Mean score for metrics - The mean for 3, 4, 5, 6"
   ]
  },
  {
   "cell_type": "code",
   "execution_count": 191,
   "metadata": {},
   "outputs": [],
   "source": [
    "#True negatives are not printed due to it being the default classification.\n",
    "def evaluate_model(model, name=\"\", verbose=False):\n",
    "    preds = model.predict(X_test)\n",
    "    preds_proba = model.predict_proba(X_test)[:,1]\n",
    "    precision, recall, _ = precision_recall_curve(y_test, preds_proba)\n",
    "    fpr, tpr, _ = roc_curve(y_test, preds_proba)\n",
    "    f1 = f1_score(preds, y_test)\n",
    "    aucroc = auc(fpr, tpr)\n",
    "    auprc = auc(recall, precision)\n",
    "    avg_precision = average_precision_score(y_test, preds_proba)\n",
    "    mean_score = np.mean([f1, auprc, aucroc, avg_precision])\n",
    "    \n",
    "    if verbose:\n",
    "        cm = confusion_matrix(preds, y_test)\n",
    "        tn, fp, fn, tp = cm.ravel()\n",
    "        \n",
    "        print(\"{} performance metrics:\\n-=-=-=-=-=-\".format(name))\n",
    "        print(\"Raw accuracy (bad metric):\", accuracy_score(preds, y_test))\n",
    "        print(\"False negatives:\", fn)\n",
    "        print(\"False positives:\", fp)\n",
    "        print(\"True positives:\", tp)\n",
    "        print(\"F1 score:\", f1)\n",
    "\n",
    "        print(\"AUPRC:\", auprc)\n",
    "        print(\"AUC ROC:\", aucroc)\n",
    "        print(\"Average Precision Score:\", avg_precision)\n",
    "        print(\"Mean Score for Metrics:\", mean_score)\n",
    "        print()\n",
    "    \n",
    "    return [f1, auprc, aucroc, avg_precision, mean_score]\n",
    "\n",
    "def print_scores(scores, name=\"\"):\n",
    "    print(\"{} performance metrics:\\n-=-=-=-=-=-\".format(name))\n",
    "    print(\"F1 score:\", scores[0])\n",
    "    print(\"AUPRC:\", scores[1])\n",
    "    print(\"AUC ROC:\", scores[2])\n",
    "    print(\"Average Precision Score:\", scores[3])\n",
    "    print(\"Mean Score for Metrics:\", scores[4])\n",
    "    print()\n",
    "\n",
    "def AUC_PR(preds_proba):\n",
    "    precision, recall, _ = precision_recall_curve(y_test, preds_proba)\n",
    "    auprc = auc(recall, precision)"
   ]
  },
  {
   "cell_type": "markdown",
   "metadata": {},
   "source": [
    "## Evaluation\n",
    "Using Stratified K-fold and the metrics above"
   ]
  },
  {
   "cell_type": "code",
   "execution_count": 109,
   "metadata": {},
   "outputs": [
    {
     "name": "stderr",
     "output_type": "stream",
     "text": [
      "c:\\python37\\lib\\site-packages\\sklearn\\model_selection\\_split.py:297: FutureWarning: Setting a random_state has no effect since shuffle is False. This will raise an error in 0.24. You should leave random_state to its default (None), or set shuffle=True.\n",
      "  FutureWarning\n"
     ]
    }
   ],
   "source": [
    "X_train, X_test, y_train, y_test = train_test_split(X, y)\n",
    "\n",
    "skf = StratifiedKFold(n_splits=5, random_state=42)\n",
    "lrg = LogisticRegression(n_jobs=4, random_state=42)\n",
    "knn = KNeighborsClassifier(n_jobs=4)\n",
    "rfc = RandomForestClassifier(n_estimators=300, n_jobs=4, random_state=42)\n",
    "nb = GaussianNB()\n",
    "mlp = MLPClassifier(hidden_layer_sizes=[1000,200], random_state=42) #1000 500\n",
    "dum = DummyClassifier(random_state=42)\n",
    "\n",
    "\n",
    "def cross_val_train_model(model, name=\"\"):\n",
    "    \n",
    "    accuracies = []\n",
    "    for train_index, valid_index in tqdm(skf.split(X_train,y_train)):\n",
    "        X_strat_train, X_valid = X[train_index], X[valid_index]\n",
    "        y_strat_train, y_valid = y[train_index], y[valid_index]\n",
    "\n",
    "        model.fit(X_strat_train, y_strat_train)\n",
    "        accuracies.append(evaluate_model(model))\n",
    "\n",
    "    print_scores(np.mean(accuracies, axis=0), name=name)"
   ]
  },
  {
   "cell_type": "code",
   "execution_count": 110,
   "metadata": {},
   "outputs": [
    {
     "name": "stderr",
     "output_type": "stream",
     "text": [
      "0it [00:00, ?it/s]c:\\python37\\lib\\site-packages\\sklearn\\dummy.py:132: FutureWarning: The default value of strategy will change from stratified to prior in 0.24.\n",
      "  \"stratified to prior in 0.24.\", FutureWarning)\n",
      "5it [00:00, 13.20it/s]\n",
      "0it [00:00, ?it/s]"
     ]
    },
    {
     "name": "stdout",
     "output_type": "stream",
     "text": [
      "Baseline performance metrics:\n",
      "-=-=-=-=-=-\n",
      "F1 score: 0.0\n",
      "AUPRC: 0.000779472486727901\n",
      "AUC ROC: 0.49909974539674506\n",
      "Average Precision Score: 0.001558944973455802\n",
      "Mean Score for Metrics: 0.1253595407142322\n",
      "\n"
     ]
    },
    {
     "name": "stderr",
     "output_type": "stream",
     "text": [
      "5it [00:11,  2.40s/it]\n",
      "0it [00:00, ?it/s]"
     ]
    },
    {
     "name": "stdout",
     "output_type": "stream",
     "text": [
      "Logistic Regression performance metrics:\n",
      "-=-=-=-=-=-\n",
      "F1 score: 0.6523944971718915\n",
      "AUPRC: 0.6637284445042675\n",
      "AUC ROC: 0.9567238335943233\n",
      "Average Precision Score: 0.665032313766839\n",
      "Mean Score for Metrics: 0.7344697722593304\n",
      "\n"
     ]
    },
    {
     "name": "stderr",
     "output_type": "stream",
     "text": [
      "5it [01:14, 14.83s/it]\n",
      "0it [00:00, ?it/s]"
     ]
    },
    {
     "name": "stdout",
     "output_type": "stream",
     "text": [
      "K-Nearest neighbours performance metrics:\n",
      "-=-=-=-=-=-\n",
      "F1 score: 0.8469492593220391\n",
      "AUPRC: 0.896691881008364\n",
      "AUC ROC: 0.9602342436118863\n",
      "Average Precision Score: 0.8446645759128419\n",
      "Mean Score for Metrics: 0.8871349899637828\n",
      "\n"
     ]
    },
    {
     "name": "stderr",
     "output_type": "stream",
     "text": [
      "5it [05:28, 65.65s/it]\n",
      "1it [00:00,  6.68it/s]"
     ]
    },
    {
     "name": "stdout",
     "output_type": "stream",
     "text": [
      "Random Forest performance metrics:\n",
      "-=-=-=-=-=-\n",
      "F1 score: 0.9336265810525042\n",
      "AUPRC: 0.9060311613157005\n",
      "AUC ROC: 0.972934093734195\n",
      "Average Precision Score: 0.9006095203861951\n",
      "Mean Score for Metrics: 0.9283003391221486\n",
      "\n"
     ]
    },
    {
     "name": "stderr",
     "output_type": "stream",
     "text": [
      "5it [00:00,  7.21it/s]\n",
      "0it [00:00, ?it/s]"
     ]
    },
    {
     "name": "stdout",
     "output_type": "stream",
     "text": [
      "Naive Bayes performance metrics:\n",
      "-=-=-=-=-=-\n",
      "F1 score: 0.2245732452135197\n",
      "AUPRC: 0.47477042641584466\n",
      "AUC ROC: 0.9522272240591014\n",
      "Average Precision Score: 0.23279554759106214\n",
      "Mean Score for Metrics: 0.471091610819882\n",
      "\n"
     ]
    },
    {
     "name": "stderr",
     "output_type": "stream",
     "text": [
      "5it [1:14:03, 888.72s/it]"
     ]
    },
    {
     "name": "stdout",
     "output_type": "stream",
     "text": [
      "Multilayer Perceptron performance metrics:\n",
      "-=-=-=-=-=-\n",
      "F1 score: 0.8142269253925667\n",
      "AUPRC: 0.8141910670393063\n",
      "AUC ROC: 0.9755368230618263\n",
      "Average Precision Score: 0.8147388586168207\n",
      "Mean Score for Metrics: 0.85467341852763\n",
      "\n"
     ]
    },
    {
     "name": "stderr",
     "output_type": "stream",
     "text": [
      "\n"
     ]
    }
   ],
   "source": [
    "cross_val_train_model(dum, name=\"Baseline\")\n",
    "cross_val_train_model(lrg, name=\"Logistic Regression\")\n",
    "cross_val_train_model(knn, name=\"K-Nearest neighbours\")\n",
    "cross_val_train_model(rfc, name=\"Random Forest\")\n",
    "cross_val_train_model(nb, name=\"Naive Bayes\")\n",
    "cross_val_train_model(mlp, name=\"Multilayer Perceptron\")\n",
    "# cross_val_train_model(nn, name=\"Neural Network\")"
   ]
  },
  {
   "cell_type": "code",
   "execution_count": null,
   "metadata": {},
   "outputs": [],
   "source": [
    "# evaluate_model(dum, name='Dummy Classifier', verbose=True)\n",
    "# evaluate_model(lrg, name=\"Logistic Regression\", verbose=True)\n",
    "# evaluate_model(knn, name='K-Nearest Neighbours', verbose=True)\n",
    "# evaluate_model(rfc, name=\"Random Forest\", verbose=True)\n",
    "# evaluate_model(nb, name=\"Naive Bayes\", verbose=True)\n",
    "# evaluate_model(mlp, name=\"Multilayer Perceptron\", verbose=True)"
   ]
  },
  {
   "cell_type": "code",
   "execution_count": 111,
   "metadata": {},
   "outputs": [],
   "source": [
    "def plot_metrics(history):\n",
    "    metrics = ['loss', 'prc', 'precision', 'recall']\n",
    "    for n, metric in enumerate(metrics):\n",
    "        name = metric.replace(\"_\",\" \").capitalize()\n",
    "        plt.subplot(2,2,n+1)\n",
    "        plt.plot(history.epoch, history.history[metric], label='Train')\n",
    "        #plt.plot(history.epoch, history.history['val_'+metric],color=colors[0], linestyle=\"--\", label='Val')\n",
    "        plt.xlabel('Epoch')\n",
    "        plt.ylabel(name)\n",
    "        if metric == 'loss':\n",
    "            plt.ylim([0, plt.ylim()[1]])\n",
    "        elif metric == 'auc':\n",
    "            plt.ylim([0.8,1])\n",
    "        else:\n",
    "            plt.ylim([0,1])\n",
    "\n",
    "        plt.legend()"
   ]
  },
  {
   "cell_type": "code",
   "execution_count": 186,
   "metadata": {},
   "outputs": [
    {
     "name": "stdout",
     "output_type": "stream",
     "text": [
      "Epoch 1/8\n",
      "3205/3205 [==============================] - 5s 1ms/step - loss: 0.1420 - prc: 0.1433 - val_loss: 0.0129 - val_prc: 0.6280\n",
      "Epoch 2/8\n",
      "3205/3205 [==============================] - 5s 2ms/step - loss: 0.0086 - prc: 0.6355 - val_loss: 0.0056 - val_prc: 0.6731\n",
      "Epoch 3/8\n",
      "3205/3205 [==============================] - 5s 1ms/step - loss: 0.0049 - prc: 0.6822 - val_loss: 0.0048 - val_prc: 0.6795\n",
      "Epoch 4/8\n",
      "3205/3205 [==============================] - 5s 1ms/step - loss: 0.0043 - prc: 0.7135 - val_loss: 0.0045 - val_prc: 0.7051\n",
      "Epoch 5/8\n",
      "3205/3205 [==============================] - 5s 1ms/step - loss: 0.0041 - prc: 0.7228 - val_loss: 0.0043 - val_prc: 0.7167\n",
      "Epoch 6/8\n",
      "3205/3205 [==============================] - 5s 1ms/step - loss: 0.0039 - prc: 0.7227 - val_loss: 0.0042 - val_prc: 0.7276\n",
      "Epoch 7/8\n",
      "3205/3205 [==============================] - 5s 2ms/step - loss: 0.0035 - prc: 0.7549 - val_loss: 0.0041 - val_prc: 0.7352\n",
      "Epoch 8/8\n",
      "3205/3205 [==============================] - 5s 1ms/step - loss: 0.0038 - prc: 0.7275 - val_loss: 0.0040 - val_prc: 0.7384\n"
     ]
    },
    {
     "data": {
      "text/plain": [
       "<matplotlib.legend.Legend at 0x2188395b188>"
      ]
     },
     "execution_count": 186,
     "metadata": {},
     "output_type": "execute_result"
    },
    {
     "data": {
      "image/png": "[encoded data removed]",
      "text/plain": [
       "<Figure size 576x396 with 1 Axes>"
      ]
     },
     "metadata": {},
     "output_type": "display_data"
    }
   ],
   "source": [
    "focal_loss = tfa.losses.SigmoidFocalCrossEntropy(alpha=1, gamma=10)\n",
    "epochs_ = 8\n",
    "batch_size_ = 25\n",
    "\n",
    "X_train, X_validation, y_train, y_validation = train_test_split(X_train, y_train, test_size=0.5)\n",
    "\n",
    "METRICS = [\n",
    "      keras.metrics.TruePositives(name='tp'),\n",
    "      keras.metrics.FalsePositives(name='fp'),\n",
    "      keras.metrics.TrueNegatives(name='tn'),\n",
    "      keras.metrics.FalseNegatives(name='fn'),\n",
    "      keras.metrics.Precision(name='precision'),\n",
    "      keras.metrics.Recall(name='recall'),\n",
    "      keras.metrics.AUC(name='auc'),\n",
    "      keras.metrics.AUC(name='prc', curve='PR'), # precision-recall curve\n",
    "]\n",
    "\n",
    "nn = keras.Sequential([\n",
    "    keras.layers.Dense(200, activation=\"relu\"),\n",
    "    keras.layers.Dropout(0.5),\n",
    "    keras.layers.Dense(1, activation=\"sigmoid\"),\n",
    "])\n",
    "\n",
    "\n",
    "#Validation data\n",
    "\n",
    "nn.compile(optimizer=keras.optimizers.Adam(learning_rate=0.0001), #'binary_crossentropy'\n",
    "           loss='binary_crossentropy', # Cite this https://towardsdatascience.com/a-loss-function-suitable-for-class-imbalanced-data-focal-loss-af1702d75d75\n",
    "           metrics=[keras.metrics.AUC(name='prc', curve='PR')])\n",
    "history = nn.fit(X_train, y_train, validation_data=(X_validation, y_validation), epochs=epochs_, batch_size=batch_size_)\n",
    "#nn.evaluate(X_test, y_test)\n",
    "plt.plot(history.history['val_loss'], label=\"val loss\")\n",
    "plt.plot(history.history['loss'], label=\"loss\")\n",
    "plt.legend()"
   ]
  },
  {
   "cell_type": "code",
   "execution_count": 188,
   "metadata": {},
   "outputs": [
    {
     "name": "stdout",
     "output_type": "stream",
     "text": [
      "2226/2226 [==============================] - 1s 610us/step - loss: 0.0000e+00 - prc: 0.0000e+00\n"
     ]
    },
    {
     "data": {
      "text/plain": [
       "[0.0, 0.0]"
      ]
     },
     "execution_count": 188,
     "metadata": {},
     "output_type": "execute_result"
    }
   ],
   "source": [
    "nn.evaluate(X_test)"
   ]
  },
  {
   "cell_type": "code",
   "execution_count": 189,
   "metadata": {},
   "outputs": [
    {
     "data": {
      "text/plain": [
       "Text(0.5, 1.0, 'Focal loss, ')"
      ]
     },
     "execution_count": 189,
     "metadata": {},
     "output_type": "execute_result"
    },
    {
     "data": {
      "image/png": "[encoded data removed]",
      "text/plain": [
       "<Figure size 576x396 with 1 Axes>"
      ]
     },
     "metadata": {},
     "output_type": "display_data"
    }
   ],
   "source": [
    "plt.plot(history.history['loss'], label=\"Training Loss\")\n",
    "plt.plot(history.history['val_loss'], '--', label=\"Validation Loss\")\n",
    "plt.legend()\n",
    "plt.title(\"Focal loss, \")"
   ]
  },
  {
   "cell_type": "code",
   "execution_count": 190,
   "metadata": {},
   "outputs": [
    {
     "data": {
      "image/png": "[encoded data removed]",
      "text/plain": [
       "<Figure size 576x396 with 1 Axes>"
      ]
     },
     "metadata": {},
     "output_type": "display_data"
    }
   ],
   "source": [
    "create_pr_curve(nn.predict(X_test), y_test, label=\"NN\", title=\"Precision-Recall Curve\")\n",
    "create_roc_curve(nn.predict(X_test), y_test, label=\"NN\", title=\"Precision-Recall Curve\")\n",
    "AUC_PR()"
   ]
  },
  {
   "cell_type": "code",
   "execution_count": 172,
   "metadata": {},
   "outputs": [
    {
     "data": {
      "text/plain": [
       "array([[1.4218688e-04],\n",
       "       [1.2143117e-06],\n",
       "       [2.0139258e-05],\n",
       "       ...,\n",
       "       [2.2586777e-05],\n",
       "       [3.7044287e-04],\n",
       "       [2.6144360e-05]], dtype=float32)"
      ]
     },
     "execution_count": 172,
     "metadata": {},
     "output_type": "execute_result"
    }
   ],
   "source": [
    "nn.predict(X_test)"
   ]
  },
  {
   "cell_type": "code",
   "execution_count": 156,
   "metadata": {},
   "outputs": [
    {
     "data": {
      "text/plain": [
       "[0.5168852210044861,\n",
       " 0.5410658717155457,\n",
       " 0.5346726179122925,\n",
       " 0.4704974889755249,\n",
       " 0.4345034062862396,\n",
       " 0.4164983332157135]"
      ]
     },
     "execution_count": 156,
     "metadata": {},
     "output_type": "execute_result"
    }
   ],
   "source": [
    "history.history['prc']"
   ]
  },
  {
   "cell_type": "code",
   "execution_count": 157,
   "metadata": {},
   "outputs": [
    {
     "name": "stdout",
     "output_type": "stream",
     "text": [
      "2226/2226 [==============================] - 1s 640us/step - loss: 0.0000e+00 - prc: 0.0000e+00\n"
     ]
    },
    {
     "data": {
      "text/plain": [
       "[0.0, 0.0]"
      ]
     },
     "execution_count": 157,
     "metadata": {},
     "output_type": "execute_result"
    }
   ],
   "source": [
    "nn.evaluate(X_test)"
   ]
  },
  {
   "cell_type": "code",
   "execution_count": 149,
   "metadata": {},
   "outputs": [
    {
     "data": {
      "text/plain": [
       "[<matplotlib.lines.Line2D at 0x218f197c288>]"
      ]
     },
     "execution_count": 149,
     "metadata": {},
     "output_type": "execute_result"
    },
    {
     "data": {
      "image/png": "[encoded data removed]",
      "text/plain": [
       "<Figure size 576x396 with 1 Axes>"
      ]
     },
     "metadata": {},
     "output_type": "display_data"
    }
   ],
   "source": [
    "plt.plot(history.history['val_loss'], label=\"val loss\")"
   ]
  },
  {
   "cell_type": "code",
   "execution_count": 122,
   "metadata": {},
   "outputs": [
    {
     "data": {
      "text/plain": [
       "{'activation': 'relu',\n",
       " 'alpha': 0.0001,\n",
       " 'batch_size': 'auto',\n",
       " 'beta_1': 0.9,\n",
       " 'beta_2': 0.999,\n",
       " 'early_stopping': False,\n",
       " 'epsilon': 1e-08,\n",
       " 'hidden_layer_sizes': [1000, 200],\n",
       " 'learning_rate': 'constant',\n",
       " 'learning_rate_init': 0.001,\n",
       " 'max_fun': 15000,\n",
       " 'max_iter': 200,\n",
       " 'momentum': 0.9,\n",
       " 'n_iter_no_change': 10,\n",
       " 'nesterovs_momentum': True,\n",
       " 'power_t': 0.5,\n",
       " 'random_state': 42,\n",
       " 'shuffle': True,\n",
       " 'solver': 'adam',\n",
       " 'tol': 0.0001,\n",
       " 'validation_fraction': 0.1,\n",
       " 'verbose': False,\n",
       " 'warm_start': False}"
      ]
     },
     "execution_count": 122,
     "metadata": {},
     "output_type": "execute_result"
    }
   ],
   "source": [
    "mlp.get_params()"
   ]
  },
  {
   "cell_type": "code",
   "execution_count": 119,
   "metadata": {},
   "outputs": [
    {
     "name": "stdout",
     "output_type": "stream",
     "text": [
      " performance metrics:\n",
      "-=-=-=-=-=-\n",
      "Raw accuracy (bad metric): 0.9989887924496503\n",
      "False negatives: 21\n",
      "False positives: 51\n",
      "True positives: 60\n",
      "F1 score: 0.625\n",
      "AUPRC: 0.660891641643524\n",
      "AUC ROC: 0.9598326013062055\n",
      "Average Precision Score: 0.6622137705085297\n",
      "Mean Score for Metrics: 0.7269845033645649\n",
      "\n"
     ]
    },
    {
     "data": {
      "text/plain": [
       "[0.625,\n",
       " 0.660891641643524,\n",
       " 0.9598326013062055,\n",
       " 0.6622137705085297,\n",
       " 0.7269845033645649]"
      ]
     },
     "execution_count": 119,
     "metadata": {},
     "output_type": "execute_result"
    }
   ],
   "source": [
    "evaluate_model(lrg, verbose=True)"
   ]
  },
  {
   "cell_type": "code",
   "execution_count": 113,
   "metadata": {},
   "outputs": [],
   "source": [
    "def plot_roc_cur(fper, tper, label=\"\", title=\"plot title\"):\n",
    "    plt.plot(fper, tper, label=label)\n",
    "    plt.plot([0, 1], [0, 1], color='darkblue', linestyle='--')\n",
    "    plt.xlabel('False Positive Rate')\n",
    "    plt.ylabel('True Positive Rate')\n",
    "    plt.title(title)\n",
    "    plt.legend(loc='lower right')\n",
    "    \n",
    "def create_roc_curve(preds, targets, label=\"\", title=\"\"):\n",
    "    all_fpr, all_tpr = [], []\n",
    "    fpr, tpr, thresholds = roc_curve(targets, preds)\n",
    "    all_fpr.append(fpr)\n",
    "    all_tpr.append(tpr)\n",
    "    all_fpr = np.array(all_fpr)\n",
    "    all_tpr = np.array(tpr)\n",
    "    \n",
    "    plot_roc_cur(all_fpr[0], all_tpr, label=label, title=title)"
   ]
  },
  {
   "cell_type": "code",
   "execution_count": 175,
   "metadata": {},
   "outputs": [
    {
     "data": {
      "image/png": "[encoded data removed]",
      "text/plain": [
       "<Figure size 576x396 with 1 Axes>"
      ]
     },
     "metadata": {},
     "output_type": "display_data"
    }
   ],
   "source": [
    "create_roc_curve(lrg.predict_proba(X_test)[:,1], y_test, label=\"Logistic Regression\")\n",
    "#create_roc_curve(svc.predict_proba(X_test)[:,1], y_test, label=\"Support Vector Classifier\")\n",
    "create_roc_curve(rfc.predict_proba(X_test)[:,1], y_test, label=\"Random Forest\")\n",
    "create_roc_curve(nb.predict_proba(X_test)[:,1], y_test, label=\"Naïve Bayes\")\n",
    "create_roc_curve(mlp.predict_proba(X_test)[:,1], y_test, label=\"Multilayer Perceptron\")\n",
    "create_roc_curve(nn.predict(X_test), y_test, label=\"Neural Network\")"
   ]
  },
  {
   "cell_type": "markdown",
   "metadata": {},
   "source": [
    "## Precicion Recall Curve"
   ]
  },
  {
   "cell_type": "code",
   "execution_count": 176,
   "metadata": {},
   "outputs": [],
   "source": [
    "def plot_pr_cur(p, r, label=\"\", title=\"plot title\"):\n",
    "    plt.plot(r, p, label=label)\n",
    "    plt.xlabel('Recall')\n",
    "    plt.ylabel('Precision')\n",
    "    plt.title(title)\n",
    "    plt.legend(loc='best')\n",
    "    \n",
    "def create_pr_curve(preds, targets, label=\"\", title=\"\"):\n",
    "    all_p, all_r = [], []\n",
    "    p, r, thresholds = precision_recall_curve(targets, preds)\n",
    "    all_p.append(p)\n",
    "    all_r.append(r)\n",
    "    all_p = np.array(p)\n",
    "    all_r = np.array(r)\n",
    "    \n",
    "    plot_pr_cur(all_p, all_r, label=label, title=title)"
   ]
  },
  {
   "cell_type": "code",
   "execution_count": 177,
   "metadata": {},
   "outputs": [
    {
     "data": {
      "image/png": "[encoded data removed]",
      "text/plain": [
       "<Figure size 576x396 with 1 Axes>"
      ]
     },
     "metadata": {},
     "output_type": "display_data"
    }
   ],
   "source": [
    "create_pr_curve(lrg.predict_proba(X_test)[:,1], y_test, label=\"Logistic Regression\")\n",
    "create_pr_curve(mlp.predict_proba(X_test)[:,1], y_test, label=\"Multilayer Perceptron\")\n",
    "create_pr_curve(rfc.predict_proba(X_test)[:,1], y_test, label=\"Random Forest\")\n",
    "create_pr_curve(nb.predict_proba(X_test)[:,1], y_test, label=\"Naive Bayes\")\n",
    "create_pr_curve(nn.predict(X_test), y_test, label=\"NN\")\n",
    "create_pr_curve(dum.predict_proba(X_test)[:,1], y_test, label=\"Baseline\", title=\"Precision-Recall Curve\")"
   ]
  },
  {
   "cell_type": "code",
   "execution_count": null,
   "metadata": {},
   "outputs": [],
   "source": [
    "keras.backend.sum"
   ]
  },
  {
   "cell_type": "code",
   "execution_count": null,
   "metadata": {},
   "outputs": [],
   "source": []
  }
 ],
 "metadata": {
  "kernelspec": {
   "display_name": "Python 3",
   "language": "python",
   "name": "python3"
  },
  "language_info": {
   "codemirror_mode": {
    "name": "ipython",
    "version": 3
   },
   "file_extension": ".py",
   "mimetype": "text/x-python",
   "name": "python",
   "nbconvert_exporter": "python",
   "pygments_lexer": "ipython3",
   "version": "3.7.4"
  }
 },
 "nbformat": 4,
 "nbformat_minor": 2
}
