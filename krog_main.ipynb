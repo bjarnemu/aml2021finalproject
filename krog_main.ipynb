{
 "cells": [
  {
   "cell_type": "markdown",
   "metadata": {},
   "source": [
    "## Imports"
   ]
  },
  {
   "cell_type": "markdown",
   "metadata": {},
   "source": [
    "https://www.kaggle.com/mlg-ulb/creditcardfraud"
   ]
  },
  {
   "cell_type": "code",
   "execution_count": 70,
   "metadata": {},
   "outputs": [],
   "source": [
    "import pandas as pd \n",
    "import matplotlib.pyplot as plt\n",
    "import numpy as np\n",
    "import seaborn as sns\n",
    "\n",
    "from sklearn.linear_model import LogisticRegression\n",
    "from sklearn.neighbors import KNeighborsClassifier\n",
    "from sklearn.ensemble import RandomForestClassifier\n",
    "from sklearn.naive_bayes import GaussianNB\n",
    "from sklearn.svm import SVC\n",
    "from sklearn.neural_network import MLPClassifier\n",
    "from sklearn.metrics import roc_curve, confusion_matrix, f1_score, accuracy_score, average_precision_score\n",
    "from sklearn.model_selection import StratifiedKFold, train_test_split\n",
    "from sklearn.dummy import DummyClassifier\n",
    "from sklearn.metrics import precision_recall_curve, auc\n",
    "from sklearn.metrics import plot_precision_recall_curve\n",
    "from tqdm import tqdm\n",
    "plt.style.use(\"seaborn\")"
   ]
  },
  {
   "cell_type": "code",
   "execution_count": 4,
   "metadata": {},
   "outputs": [],
   "source": [
    "records = pd.read_csv('creditcard.csv', delimiter=',', header=0)"
   ]
  },
  {
   "cell_type": "markdown",
   "metadata": {},
   "source": [
    "# Check if data is well-formed"
   ]
  },
  {
   "cell_type": "markdown",
   "metadata": {},
   "source": [
    "## Distribution of fraudulent vs. good transactions\n",
    "Very few fraudulent records"
   ]
  },
  {
   "cell_type": "code",
   "execution_count": 5,
   "metadata": {},
   "outputs": [
    {
     "data": {
      "text/plain": [
       "0    284315\n",
       "1       492\n",
       "Name: Class, dtype: int64"
      ]
     },
     "execution_count": 5,
     "metadata": {},
     "output_type": "execute_result"
    }
   ],
   "source": [
    "records.Class.value_counts()"
   ]
  },
  {
   "cell_type": "markdown",
   "metadata": {},
   "source": [
    "## Normalize data"
   ]
  },
  {
   "cell_type": "code",
   "execution_count": 6,
   "metadata": {},
   "outputs": [],
   "source": [
    "#Mean normalization\n",
    "targets = records.pop('Class')\n",
    "normalized_records=(records-records.mean())/records.std()\n",
    "#normalized_records.hist(figsize=(20,20));"
   ]
  },
  {
   "cell_type": "markdown",
   "metadata": {},
   "source": [
    "## Compare hists between classes"
   ]
  },
  {
   "cell_type": "code",
   "execution_count": 7,
   "metadata": {},
   "outputs": [],
   "source": [
    "records0 = normalized_records[targets==0]\n",
    "records1 = normalized_records[targets==1]\n",
    "#records0.hist(figsize=(20,20));"
   ]
  },
  {
   "cell_type": "code",
   "execution_count": 8,
   "metadata": {},
   "outputs": [],
   "source": [
    "#records1.hist(figsize=(20,20));"
   ]
  },
  {
   "cell_type": "code",
   "execution_count": 9,
   "metadata": {},
   "outputs": [
    {
     "name": "stdout",
     "output_type": "stream",
     "text": [
      "Differences between fraud and non-fraud:\n",
      "Differences in Time\n",
      "Median: 0.19252172971223316\n",
      "Mean: 0.2967350075315986\n",
      "Std: -0.007398674870575661\n",
      "\n",
      "Differences in V1\n",
      "Median: 1.2061703137691455\n",
      "Mean: 2.4405046304538205\n",
      "Std: -2.4781146185470924\n",
      "\n",
      "Differences in V2\n",
      "Median: -1.6070883853499391\n",
      "Mean: -2.198286258857717\n",
      "Std: -1.6078579173914733\n",
      "\n",
      "Differences in V3\n",
      "Median: 3.4673686501116703\n",
      "Mean: 4.64661415234859\n",
      "Std: -3.727280862082994\n",
      "\n",
      "Differences in V4\n",
      "Median: -2.966060774701858\n",
      "Mean: -3.2134966851943867\n",
      "Std: -1.041046096449672\n",
      "\n",
      "Differences in V5\n",
      "Median: 1.0646680521499936\n",
      "Mean: 2.2870389213706708\n",
      "Std: -2.9092742802983906\n",
      "\n",
      "Differences in V6\n",
      "Median: 0.8643081611514458\n",
      "Mean: 1.050953871019782\n",
      "Std: -0.3964738063666099\n",
      "\n",
      "Differences in V7\n",
      "Median: 2.4861012371395548\n",
      "Mean: 4.509252688613915\n",
      "Std: -4.872679520684369\n",
      "\n",
      "Differences in V8\n",
      "Median: -0.5019178436083024\n",
      "Mean: -0.4786050799310731\n",
      "Std: -4.719331507786939\n",
      "\n",
      "Differences in V9\n",
      "Median: 1.9649929610563892\n",
      "Mean: 2.3534625610834463\n",
      "Std: -1.2848010599682733\n",
      "\n",
      "Differences in V10\n",
      "Median: 4.120818890194128\n",
      "Mean: 5.222673278516471\n",
      "Std: -3.5387226478963605\n",
      "\n",
      "Differences in V11\n",
      "Median: -3.5476589227392226\n",
      "Mean: -3.729499783237992\n",
      "Std: -1.6414923392381064\n",
      "\n",
      "Differences in V12\n",
      "Median: 5.648719415419167\n",
      "Mean: 6.27523622871579\n",
      "Std: -3.711483496767802\n",
      "\n",
      "Differences in V13\n",
      "Median: 0.05226664016545861\n",
      "Mean: 0.11004305467275456\n",
      "Std: -0.1099714586122964\n",
      "\n",
      "Differences in V14\n",
      "Median: 7.074585501625502\n",
      "Mean: 7.2854363240133\n",
      "Std: -3.528008393898843\n",
      "\n",
      "Differences in V15\n",
      "Median: 0.11528368103963876\n",
      "Mean: 0.10170209698587174\n",
      "Std: -0.14733210866439805\n",
      "\n",
      "Differences in V16\n",
      "Median: 4.127999815153895\n",
      "Mean: 4.732777296736964\n",
      "Std: -3.4467936884916712\n",
      "\n",
      "Differences in V17\n",
      "Median: 6.167298665268255\n",
      "Mean: 7.8618627966314385\n",
      "Std: -7.324725786843506\n",
      "\n",
      "Differences in V18\n",
      "Median: 1.9823512340403313\n",
      "Mean: 2.6846327639237155\n",
      "Std: -2.4749536619635197\n",
      "\n",
      "Differences in V19\n",
      "Median: -0.7907343642090423\n",
      "Mean: -0.8375961229702373\n",
      "Std: -0.8944520397371998\n",
      "\n",
      "Differences in V20\n",
      "Median: -0.4505486457201574\n",
      "Mean: -0.48378723369756027\n",
      "Std: -0.7487519431132323\n",
      "\n",
      "Differences in V21\n",
      "Median: -0.846762358717146\n",
      "Mean: -0.9731788008130128\n",
      "Std: -4.291978026563235\n",
      "\n",
      "Differences in V22\n",
      "Median: -0.05745939681928009\n",
      "Mean: -0.019392535646349105\n",
      "Std: -1.062328130035516\n",
      "\n",
      "Differences in V23\n",
      "Median: 0.0992674485268181\n",
      "Mean: 0.06466018441945162\n",
      "Std: -1.5342867605199462\n",
      "\n",
      "Differences in V24\n",
      "Median: 0.1682129138539416\n",
      "Mean: 0.17388382838664473\n",
      "Std: 0.14893119800051602\n",
      "\n",
      "Differences in V25\n",
      "Median: -0.13803479213607198\n",
      "Mean: -0.07965156386298933\n",
      "Std: -0.5304875860882277\n",
      "\n",
      "Differences in V26\n",
      "Median: -0.11726497030750754\n",
      "Mean: -0.10728868339981308\n",
      "Std: 0.02190283228164358\n",
      "\n",
      "Differences in V27\n",
      "Median: -0.9753841799472229\n",
      "Mean: -0.42333055388126106\n",
      "Std: -2.4203186008515862\n",
      "\n",
      "Differences in V28\n",
      "Median: -0.40942691128732916\n",
      "Mean: -0.22963366892741047\n",
      "Std: -0.659595811908064\n",
      "\n",
      "Differences in Amount\n",
      "Median: 0.050975509481145154\n",
      "Mean: -0.13561603990553245\n",
      "Std: -0.02630014872375508\n",
      "\n"
     ]
    }
   ],
   "source": [
    "print(\"Differences between fraud and non-fraud:\")\n",
    "for i in records0.keys():\n",
    "    print(\"Differences in\",i)\n",
    "    print(\"Median:\", records0[i].median()-records1[i].median())\n",
    "    print(\"Mean:\", records0[i].mean()-records1[i].mean())\n",
    "    print(\"Std:\", records0[i].std()-records1[i].std())\n",
    "    \n",
    "    print()"
   ]
  },
  {
   "cell_type": "code",
   "execution_count": 10,
   "metadata": {},
   "outputs": [],
   "source": [
    "top10 = ['V3', 'V4', 'V7', 'V10', 'V11', 'V12', 'V14', 'V16', 'V17', 'V18'] #Based on largest difference in median.\n",
    "X = normalized_records[top10].to_numpy()\n",
    "y = targets.to_numpy()"
   ]
  },
  {
   "cell_type": "markdown",
   "metadata": {},
   "source": [
    "### Performance Metrics\n",
    "The function below calculates a series of performance metrics.\n",
    "1. Accuracy - This is the default metric and is not suited for this problem.\n",
    "2. False negatives, False positives, True positives - Gives insight in how it classifies.\n",
    "3. F1 score - Is considered suited for imbalanced datasets.\n",
    "4. AUPRC - Area Under Precision-Recall Curve is the suggested metric from Kaggle.\n",
    "5. AUC ROC - Area Under Curve Receiving Operating Characteristic is widely used for this specific task, but not good for imbalanced datasets\n",
    "6. Average Precision - Should be a good overall measure for this task. \n",
    "7. Mean score for metrics - The mean for 3, 4, 5, 6"
   ]
  },
  {
   "cell_type": "code",
   "execution_count": 86,
   "metadata": {},
   "outputs": [],
   "source": [
    "#True negatives are not printed due to it being the default classification.\n",
    "def evaluate_model(model, name=\"\", verbose=False):\n",
    "    preds = model.predict(X_test)\n",
    "    preds_proba = model.predict_proba(X_test)[:,1]\n",
    "    precision, recall, _ = precision_recall_curve(y_test, preds_proba)\n",
    "    fpr, tpr, _ = roc_curve(y_test, preds_proba)\n",
    "    f1 = f1_score(preds, y_test)\n",
    "    aucroc = auc(fpr, tpr)\n",
    "    auprc = auc(recall, precision)\n",
    "    avg_precision = average_precision_score(y_test, preds_proba)\n",
    "    mean_score = np.mean([f1, auprc, aucroc, avg_precision])\n",
    "    \n",
    "    if verbose:\n",
    "        cm = confusion_matrix(preds, y_test)\n",
    "        tn, fp, fn, tp = cm.ravel()\n",
    "        \n",
    "        print(\"{} performance metrics:\\n-=-=-=-=-=-\".format(name))\n",
    "        print(\"Raw accuracy (bad metric):\", accuracy_score(preds, y_test))\n",
    "        print(\"False negatives:\", fn)\n",
    "        print(\"False positives:\", fp)\n",
    "        print(\"True positives:\", tp)\n",
    "        print(\"F1 score:\", f1)\n",
    "\n",
    "        print(\"AUPRC:\", auprc)\n",
    "        print(\"AUC ROC:\", aucroc)\n",
    "        print(\"Average Precision Score:\", avg_precision)\n",
    "        print(\"Mean Score for Metrics:\", mean_score)\n",
    "        print()\n",
    "    \n",
    "    return [f1, auprc, aucroc, avg_precision, mean_score]\n",
    "\n",
    "def print_scores(scores, name=\"\"):\n",
    "    print(\"{} performance metrics:\\n-=-=-=-=-=-\".format(name))\n",
    "    print(\"F1 score:\", scores[0])\n",
    "    print(\"AUPRC:\", scores[1])\n",
    "    print(\"AUC ROC:\", scores[2])\n",
    "    print(\"Average Precision Score:\", scores[3])\n",
    "    print(\"Mean Score for Metrics:\", scores[4])\n",
    "    print()"
   ]
  },
  {
   "cell_type": "markdown",
   "metadata": {},
   "source": [
    "## Evaluation\n",
    "Using Stratified K-fold and the metrics above"
   ]
  },
  {
   "cell_type": "code",
   "execution_count": 90,
   "metadata": {},
   "outputs": [
    {
     "name": "stderr",
     "output_type": "stream",
     "text": [
      "c:\\python37\\lib\\site-packages\\sklearn\\model_selection\\_split.py:297: FutureWarning: Setting a random_state has no effect since shuffle is False. This will raise an error in 0.24. You should leave random_state to its default (None), or set shuffle=True.\n",
      "  FutureWarning\n",
      "0it [00:00, ?it/s]c:\\python37\\lib\\site-packages\\sklearn\\dummy.py:132: FutureWarning: The default value of strategy will change from stratified to prior in 0.24.\n",
      "  \"stratified to prior in 0.24.\", FutureWarning)\n",
      "1it [10:37, 637.42s/it]c:\\python37\\lib\\site-packages\\sklearn\\dummy.py:132: FutureWarning: The default value of strategy will change from stratified to prior in 0.24.\n",
      "  \"stratified to prior in 0.24.\", FutureWarning)\n",
      "2it [19:49, 594.85s/it]"
     ]
    },
    {
     "name": "stdout",
     "output_type": "stream",
     "text": [
      " performance metrics:\n",
      "-=-=-=-=-=-\n",
      "F1 score: 0.008249822856564431\n",
      "AUPRC: 0.009135707181127254\n",
      "AUC ROC: 0.5033837244324689\n",
      "Average Precision Score: 0.0016983577891979342\n",
      "Mean Score for Metrics: 0.13061690306483964\n",
      "\n",
      " performance metrics:\n",
      "-=-=-=-=-=-\n",
      "F1 score: 0.6529411764705881\n",
      "AUPRC: 0.6739739036424538\n",
      "AUC ROC: 0.9657323692774209\n",
      "Average Precision Score: 0.6753467305403906\n",
      "Mean Score for Metrics: 0.7419985449827133\n",
      "\n",
      " performance metrics:\n",
      "-=-=-=-=-=-\n",
      "F1 score: 0.7654396003173156\n",
      "AUPRC: 0.8122666287515143\n",
      "AUC ROC: 0.9399127023203833\n",
      "Average Precision Score: 0.72763044896606\n",
      "Mean Score for Metrics: 0.8113123450888182\n",
      "\n",
      " performance metrics:\n",
      "-=-=-=-=-=-\n",
      "F1 score: 0.856036767931041\n",
      "AUPRC: 0.8055525300672985\n",
      "AUC ROC: 0.9594932394046132\n",
      "Average Precision Score: 0.7955633418675461\n",
      "Mean Score for Metrics: 0.8541614698176248\n",
      "\n",
      " performance metrics:\n",
      "-=-=-=-=-=-\n",
      "F1 score: 0.2348585817794397\n",
      "AUPRC: 0.5215317501836605\n",
      "AUC ROC: 0.962686118520683\n",
      "Average Precision Score: 0.26685311537384243\n",
      "Mean Score for Metrics: 0.49648239146440637\n",
      "\n",
      " performance metrics:\n",
      "-=-=-=-=-=-\n",
      "F1 score: 0.7646242352296594\n",
      "AUPRC: 0.6802738845608722\n",
      "AUC ROC: 0.9651362369235339\n",
      "Average Precision Score: 0.6820947514409128\n",
      "Mean Score for Metrics: 0.7730322770387446\n",
      "\n"
     ]
    },
    {
     "name": "stderr",
     "output_type": "stream",
     "text": [
      "\n"
     ]
    }
   ],
   "source": [
    "X_train, X_test, y_train, y_test = train_test_split(X, y)\n",
    "\n",
    "skf = StratifiedKFold(n_splits=2, random_state=42)\n",
    "lrg = LogisticRegression(n_jobs=4, random_state=42)\n",
    "knn = KNeighborsClassifier(n_jobs=4)\n",
    "rfc = RandomForestClassifier(n_estimators=300, n_jobs=4, random_state=42)\n",
    "svc = SVC(probability=True, gamma=2, C=1, random_state=42)\n",
    "nb = GaussianNB()\n",
    "mlp = MLPClassifier(hidden_layer_sizes=[1000,200], random_state=42) #1000 500\n",
    "dum = DummyClassifier(random_state=42)\n",
    "\n",
    "\n",
    "lrg_accuracies = []\n",
    "knn_accuracies = []\n",
    "rfc_accuracies = []\n",
    "#svc_accuracies = []\n",
    "nb_accuracies = []\n",
    "mlp_accuracies = []\n",
    "dum_accuracies = []\n",
    "\n",
    "for train_index, valid_index in tqdm(skf.split(X_train,y_train)):\n",
    "    X_strat_train, X_valid = X[train_index], X[valid_index]\n",
    "    y_strat_train, y_valid = y[train_index], y[valid_index]\n",
    "    \n",
    "    \n",
    "    lrg.fit(X_strat_train, y_strat_train)\n",
    "    dum.fit(X_strat_train, y_strat_train)\n",
    "    knn.fit(X_strat_train, y_strat_train)\n",
    "    rfc.fit(X_strat_train, y_strat_train)\n",
    "    nb.fit(X_strat_train, y_strat_train)\n",
    "    mlp.fit(X_strat_train, y_strat_train)\n",
    "    \n",
    "    lrg_accuracies.append(evaluate_model(lrg)) #Append the mean metrics\n",
    "    dum_accuracies.append(evaluate_model(dum))\n",
    "    knn_accuracies.append(evaluate_model(knn))\n",
    "    rfc_accuracies.append(evaluate_model(rfc))\n",
    "    nb_accuracies.append(evaluate_model(nb))\n",
    "    mlp_accuracies.append(evaluate_model(mlp))\n",
    "    #break #Only do it once for speed purpose when experimenting\n",
    "\n",
    "print_scores(np.mean(dum_accuracies, axis=0), name=\"Baseline\")\n",
    "print_scores(np.mean(lrg_accuracies, axis=0), name=\"Logistic Regression\")\n",
    "print_scores(np.mean(knn_accuracies, axis=0), name=\"K-Nearest neighbours\")\n",
    "print_scores(np.mean(rfc_accuracies, axis=0), name=\"Random Forest\")\n",
    "print_scores(np.mean(nb_accuracies, axis=0), name=\"Naive Bayes\")\n",
    "print_scores(np.mean(mlp_accuracies, axis=0), name=\"Multilayer Perceptron\")"
   ]
  },
  {
   "cell_type": "code",
   "execution_count": 83,
   "metadata": {},
   "outputs": [
    {
     "name": "stdout",
     "output_type": "stream",
     "text": [
      "Dummy Classifier performance metrics:\n",
      "-=-=-=-=-=-\n",
      "Raw accuracy (bad metric): 0.9967978427572259\n",
      "False negatives: 105\n",
      "False positives: 123\n",
      "True positives: 0\n",
      "F1 score: 0.0\n",
      "AUPRC: 0.0008637397825903767\n",
      "AUC ROC: 0.49926138521926305\n",
      "Average Precision Score: 0.0017274795651807534\n",
      "Mean Score for Metrics: 0.12546315114175854\n",
      "\n",
      "Logistic Regression performance metrics:\n",
      "-=-=-=-=-=-\n",
      "Raw accuracy (bad metric): 0.9992977725344794\n",
      "False negatives: 15\n",
      "False positives: 35\n",
      "True positives: 88\n",
      "F1 score: 0.7787610619469026\n",
      "AUPRC: 0.7229168385755848\n",
      "AUC ROC: 0.9745512750784452\n",
      "Average Precision Score: 0.7239642327661315\n",
      "Mean Score for Metrics: 0.8000483520917661\n",
      "\n",
      "K-Nearest Neighbours performance metrics:\n",
      "-=-=-=-=-=-\n",
      "Raw accuracy (bad metric): 0.9993820398303418\n",
      "False negatives: 15\n",
      "False positives: 29\n",
      "True positives: 94\n",
      "F1 score: 0.8103448275862069\n",
      "AUPRC: 0.8256226947142734\n",
      "AUC ROC: 0.9469365187046545\n",
      "Average Precision Score: 0.7355438769124685\n",
      "Mean Score for Metrics: 0.8296119794794008\n",
      "\n",
      "Random Forest performance metrics:\n",
      "-=-=-=-=-=-\n",
      "Raw accuracy (bad metric): 0.9995365298727564\n",
      "False negatives: 15\n",
      "False positives: 18\n",
      "True positives: 105\n",
      "F1 score: 0.8641975308641976\n",
      "AUPRC: 0.7532819360157816\n",
      "AUC ROC: 0.966132324768147\n",
      "Average Precision Score: 0.723736142067313\n",
      "Mean Score for Metrics: 0.8268369834288598\n",
      "\n",
      "Naive Bayes performance metrics:\n",
      "-=-=-=-=-=-\n",
      "Raw accuracy (bad metric): 0.9912362012303025\n",
      "False negatives: 604\n",
      "False positives: 20\n",
      "True positives: 103\n",
      "F1 score: 0.24819277108433735\n",
      "AUPRC: 0.5346282569307624\n",
      "AUC ROC: 0.9628201965132808\n",
      "Average Precision Score: 0.2910603713569382\n",
      "Mean Score for Metrics: 0.5091753989713297\n",
      "\n",
      "Multilayer Perceptron performance metrics:\n",
      "-=-=-=-=-=-\n",
      "Raw accuracy (bad metric): 0.9994101289289626\n",
      "False negatives: 15\n",
      "False positives: 27\n",
      "True positives: 96\n",
      "F1 score: 0.8205128205128206\n",
      "AUPRC: 0.6983930289819938\n",
      "AUC ROC: 0.9697254297491273\n",
      "Average Precision Score: 0.6997248026045866\n",
      "Mean Score for Metrics: 0.797089020462132\n",
      "\n"
     ]
    },
    {
     "data": {
      "text/plain": [
       "[0.8205128205128206,\n",
       " 0.6983930289819938,\n",
       " 0.9697254297491273,\n",
       " 0.6997248026045866,\n",
       " 0.797089020462132]"
      ]
     },
     "execution_count": 83,
     "metadata": {},
     "output_type": "execute_result"
    }
   ],
   "source": [
    "evaluate_model(dum, name='Dummy Classifier', verbose=True)\n",
    "evaluate_model(lrg, name=\"Logistic Regression\", verbose=True)\n",
    "evaluate_model(knn, name='K-Nearest Neighbours', verbose=True)\n",
    "evaluate_model(rfc, name=\"Random Forest\", verbose=True)\n",
    "evaluate_model(nb, name=\"Naive Bayes\", verbose=True)\n",
    "evaluate_model(mlp, name=\"Multilayer Perceptron\", verbose=True)"
   ]
  },
  {
   "cell_type": "code",
   "execution_count": 15,
   "metadata": {},
   "outputs": [],
   "source": [
    "def plot_roc_cur(fper, tper, label=\"\", title=\"plot title\"):\n",
    "    plt.plot(fper, tper, label=label)\n",
    "    plt.plot([0, 1], [0, 1], color='darkblue', linestyle='--')\n",
    "    plt.xlabel('False Positive Rate')\n",
    "    plt.ylabel('True Positive Rate')\n",
    "    plt.title(title)\n",
    "    plt.legend(loc='lower right')\n",
    "    \n",
    "def create_roc_curve(preds, targets, label=\"\", title=\"\"):\n",
    "    all_fpr, all_tpr = [], []\n",
    "    fpr, tpr, thresholds = roc_curve(targets, preds)\n",
    "    all_fpr.append(fpr)\n",
    "    all_tpr.append(tpr)\n",
    "    all_fpr = np.array(all_fpr)\n",
    "    all_tpr = np.array(tpr)\n",
    "    \n",
    "    plot_roc_cur(all_fpr[0], all_tpr, label=label, title=title)"
   ]
  },
  {
   "cell_type": "code",
   "execution_count": 16,
   "metadata": {},
   "outputs": [
    {
     "data": {
      "image/png": "[encoded data removed]",
      "text/plain": [
       "<Figure size 576x396 with 1 Axes>"
      ]
     },
     "metadata": {},
     "output_type": "display_data"
    }
   ],
   "source": [
    "create_roc_curve(lrg.predict_proba(X_test)[:,1], y_test, label=\"Logistic Regression\")\n",
    "#create_roc_curve(svc.predict_proba(X_test)[:,1], y_test, label=\"Support Vector Classifier\")\n",
    "create_roc_curve(rfc.predict_proba(X_test)[:,1], y_test, label=\"Random Forest\")\n",
    "create_roc_curve(nb.predict_proba(X_test)[:,1], y_test, label=\"Naïve Bayes\")\n",
    "create_roc_curve(mlp.predict_proba(X_test)[:,1], y_test, label=\"Multilayer Perceptron\")"
   ]
  },
  {
   "cell_type": "markdown",
   "metadata": {},
   "source": [
    "## Precicion Recall Curve"
   ]
  },
  {
   "cell_type": "code",
   "execution_count": 84,
   "metadata": {},
   "outputs": [],
   "source": [
    "def plot_pr_cur(p, r, label=\"\", title=\"plot title\"):\n",
    "    plt.plot(r, p, label=label)\n",
    "    plt.xlabel('Recall')\n",
    "    plt.ylabel('Precision')\n",
    "    plt.title(title)\n",
    "    plt.legend(loc='best')\n",
    "    \n",
    "def create_pr_curve(preds, targets, label=\"\", title=\"\"):\n",
    "    all_p, all_r = [], []\n",
    "    p, r, thresholds = precision_recall_curve(targets, preds)\n",
    "    all_p.append(p)\n",
    "    all_r.append(r)\n",
    "    all_p = np.array(p)\n",
    "    all_r = np.array(r)\n",
    "    \n",
    "    plot_pr_cur(all_p, all_r, label=label, title=title)"
   ]
  },
  {
   "cell_type": "code",
   "execution_count": 85,
   "metadata": {},
   "outputs": [
    {
     "data": {
      "image/png": "[encoded data removed]",
      "text/plain": [
       "<Figure size 576x396 with 1 Axes>"
      ]
     },
     "metadata": {},
     "output_type": "display_data"
    }
   ],
   "source": [
    "create_pr_curve(lrg.predict_proba(X_test)[:,1], y_test, label=\"Logistic Regression\")\n",
    "create_pr_curve(mlp.predict_proba(X_test)[:,1], y_test, label=\"Multilayer Perceptron\")\n",
    "create_pr_curve(rfc.predict_proba(X_test)[:,1], y_test, label=\"Random Forest\")\n",
    "create_pr_curve(dum.predict_proba(X_test)[:,1], y_test, label=\"Baseline\", title=\"Precision-Recall Curve\")"
   ]
  },
  {
   "cell_type": "code",
   "execution_count": 49,
   "metadata": {},
   "outputs": [
    {
     "data": {
      "text/plain": [
       "<sklearn.metrics._plot.precision_recall_curve.PrecisionRecallDisplay at 0x1a68ff08488>"
      ]
     },
     "execution_count": 49,
     "metadata": {},
     "output_type": "execute_result"
    },
    {
     "data": {
      "image/png": "[encoded data removed]",
      "text/plain": [
       "<Figure size 576x396 with 1 Axes>"
      ]
     },
     "metadata": {},
     "output_type": "display_data"
    }
   ],
   "source": [
    "plot_precision_recall_curve(lrg, X_test, y_test)"
   ]
  },
  {
   "cell_type": "code",
   "execution_count": 89,
   "metadata": {},
   "outputs": [
    {
     "data": {
      "text/plain": [
       "array([1., 2., 3.])"
      ]
     },
     "execution_count": 89,
     "metadata": {},
     "output_type": "execute_result"
    }
   ],
   "source": [
    "l = [[1,2,3], [1,2,3]]\n",
    "np.mean(l, axis=0)"
   ]
  },
  {
   "cell_type": "code",
   "execution_count": null,
   "metadata": {},
   "outputs": [],
   "source": []
  }
 ],
 "metadata": {
  "kernelspec": {
   "display_name": "Python 3",
   "language": "python",
   "name": "python3"
  },
  "language_info": {
   "codemirror_mode": {
    "name": "ipython",
    "version": 3
   },
   "file_extension": ".py",
   "mimetype": "text/x-python",
   "name": "python",
   "nbconvert_exporter": "python",
   "pygments_lexer": "ipython3",
   "version": "3.7.4"
  }
 },
 "nbformat": 4,
 "nbformat_minor": 2
}
