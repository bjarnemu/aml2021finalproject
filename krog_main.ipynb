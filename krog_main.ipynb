{
 "cells": [
  {
   "cell_type": "markdown",
   "metadata": {},
   "source": [
    "## Imports"
   ]
  },
  {
   "cell_type": "markdown",
   "metadata": {},
   "source": [
    "https://www.kaggle.com/mlg-ulb/creditcardfraud"
   ]
  },
  {
   "cell_type": "code",
   "execution_count": 81,
   "metadata": {},
   "outputs": [],
   "source": [
    "import pandas as pd \n",
    "import matplotlib.pyplot as plt\n",
    "import numpy as np\n",
    "import seaborn as sns\n",
    "import imblearn\n",
    "from sklearn.linear_model import LogisticRegression\n",
    "from sklearn.neighbors import KNeighborsClassifier\n",
    "from sklearn.ensemble import RandomForestClassifier\n",
    "from sklearn.naive_bayes import GaussianNB\n",
    "from sklearn.svm import SVC\n",
    "from sklearn.neural_network import MLPClassifier\n",
    "from sklearn.metrics import roc_curve, confusion_matrix, f1_score, accuracy_score, average_precision_score\n",
    "from sklearn.model_selection import StratifiedKFold, train_test_split\n",
    "from sklearn.dummy import DummyClassifier\n",
    "from sklearn.metrics import precision_recall_curve, auc\n",
    "from sklearn.metrics import plot_precision_recall_curve\n",
    "import keras\n",
    "import tensorflow_addons as tfa\n",
    "import keras.backend as K\n",
    "from tqdm import tqdm\n",
    "plt.style.use(\"seaborn\")"
   ]
  },
  {
   "cell_type": "code",
   "execution_count": 82,
   "metadata": {},
   "outputs": [],
   "source": [
    "records = pd.read_csv('creditcard.csv', delimiter=',', header=0)"
   ]
  },
  {
   "cell_type": "markdown",
   "metadata": {},
   "source": [
    "# Check if data is well-formed"
   ]
  },
  {
   "cell_type": "markdown",
   "metadata": {},
   "source": [
    "## Distribution of fraudulent vs. good transactions\n",
    "Very few fraudulent records"
   ]
  },
  {
   "cell_type": "code",
   "execution_count": 83,
   "metadata": {},
   "outputs": [
    {
     "data": {
      "text/plain": [
       "0    284315\n",
       "1       492\n",
       "Name: Class, dtype: int64"
      ]
     },
     "execution_count": 83,
     "metadata": {},
     "output_type": "execute_result"
    }
   ],
   "source": [
    "records.Class.value_counts()"
   ]
  },
  {
   "cell_type": "markdown",
   "metadata": {},
   "source": [
    "## Normalize data"
   ]
  },
  {
   "cell_type": "code",
   "execution_count": 84,
   "metadata": {},
   "outputs": [],
   "source": [
    "#Mean normalization\n",
    "targets = records.pop('Class')\n",
    "normalized_records=(records-records.mean())/records.std()\n",
    "#normalized_records.hist(figsize=(20,20));"
   ]
  },
  {
   "cell_type": "markdown",
   "metadata": {},
   "source": [
    "## Compare hists between classes"
   ]
  },
  {
   "cell_type": "code",
   "execution_count": 85,
   "metadata": {},
   "outputs": [],
   "source": [
    "records0 = normalized_records[targets==0]\n",
    "records1 = normalized_records[targets==1]\n",
    "#records0.hist(figsize=(20,20));"
   ]
  },
  {
   "cell_type": "code",
   "execution_count": 86,
   "metadata": {},
   "outputs": [
    {
     "name": "stdout",
     "output_type": "stream",
     "text": [
      "Differences between fraud and non-fraud:\n",
      "Differences in Time\n",
      "Median: 0.19252172971223316\n",
      "Mean: 0.2967350075315986\n",
      "Std: -0.007398674870575661\n",
      "\n",
      "Differences in V1\n",
      "Median: 1.2061703137691455\n",
      "Mean: 2.4405046304538205\n",
      "Std: -2.4781146185470924\n",
      "\n",
      "Differences in V2\n",
      "Median: -1.6070883853499391\n",
      "Mean: -2.198286258857717\n",
      "Std: -1.6078579173914733\n",
      "\n",
      "Differences in V3\n",
      "Median: 3.4673686501116703\n",
      "Mean: 4.64661415234859\n",
      "Std: -3.727280862082994\n",
      "\n",
      "Differences in V4\n",
      "Median: -2.966060774701858\n",
      "Mean: -3.2134966851943867\n",
      "Std: -1.041046096449672\n",
      "\n",
      "Differences in V5\n",
      "Median: 1.0646680521499936\n",
      "Mean: 2.2870389213706708\n",
      "Std: -2.9092742802983906\n",
      "\n",
      "Differences in V6\n",
      "Median: 0.8643081611514458\n",
      "Mean: 1.050953871019782\n",
      "Std: -0.3964738063666099\n",
      "\n",
      "Differences in V7\n",
      "Median: 2.4861012371395548\n",
      "Mean: 4.509252688613915\n",
      "Std: -4.872679520684369\n",
      "\n",
      "Differences in V8\n",
      "Median: -0.5019178436083024\n",
      "Mean: -0.4786050799310731\n",
      "Std: -4.719331507786939\n",
      "\n",
      "Differences in V9\n",
      "Median: 1.9649929610563892\n",
      "Mean: 2.3534625610834463\n",
      "Std: -1.2848010599682733\n",
      "\n",
      "Differences in V10\n",
      "Median: 4.120818890194128\n",
      "Mean: 5.222673278516471\n",
      "Std: -3.5387226478963605\n",
      "\n",
      "Differences in V11\n",
      "Median: -3.5476589227392226\n",
      "Mean: -3.729499783237992\n",
      "Std: -1.6414923392381064\n",
      "\n",
      "Differences in V12\n",
      "Median: 5.648719415419167\n",
      "Mean: 6.27523622871579\n",
      "Std: -3.711483496767802\n",
      "\n",
      "Differences in V13\n",
      "Median: 0.05226664016545861\n",
      "Mean: 0.11004305467275456\n",
      "Std: -0.1099714586122964\n",
      "\n",
      "Differences in V14\n",
      "Median: 7.074585501625502\n",
      "Mean: 7.2854363240133\n",
      "Std: -3.528008393898843\n",
      "\n",
      "Differences in V15\n",
      "Median: 0.11528368103963876\n",
      "Mean: 0.10170209698587174\n",
      "Std: -0.14733210866439805\n",
      "\n",
      "Differences in V16\n",
      "Median: 4.127999815153895\n",
      "Mean: 4.732777296736964\n",
      "Std: -3.4467936884916712\n",
      "\n",
      "Differences in V17\n",
      "Median: 6.167298665268255\n",
      "Mean: 7.8618627966314385\n",
      "Std: -7.324725786843506\n",
      "\n",
      "Differences in V18\n",
      "Median: 1.9823512340403313\n",
      "Mean: 2.6846327639237155\n",
      "Std: -2.4749536619635197\n",
      "\n",
      "Differences in V19\n",
      "Median: -0.7907343642090423\n",
      "Mean: -0.8375961229702373\n",
      "Std: -0.8944520397371998\n",
      "\n",
      "Differences in V20\n",
      "Median: -0.4505486457201574\n",
      "Mean: -0.48378723369756027\n",
      "Std: -0.7487519431132323\n",
      "\n",
      "Differences in V21\n",
      "Median: -0.846762358717146\n",
      "Mean: -0.9731788008130128\n",
      "Std: -4.291978026563235\n",
      "\n",
      "Differences in V22\n",
      "Median: -0.05745939681928009\n",
      "Mean: -0.019392535646349105\n",
      "Std: -1.062328130035516\n",
      "\n",
      "Differences in V23\n",
      "Median: 0.0992674485268181\n",
      "Mean: 0.06466018441945162\n",
      "Std: -1.5342867605199462\n",
      "\n",
      "Differences in V24\n",
      "Median: 0.1682129138539416\n",
      "Mean: 0.17388382838664473\n",
      "Std: 0.14893119800051602\n",
      "\n",
      "Differences in V25\n",
      "Median: -0.13803479213607198\n",
      "Mean: -0.07965156386298933\n",
      "Std: -0.5304875860882277\n",
      "\n",
      "Differences in V26\n",
      "Median: -0.11726497030750754\n",
      "Mean: -0.10728868339981308\n",
      "Std: 0.02190283228164358\n",
      "\n",
      "Differences in V27\n",
      "Median: -0.9753841799472229\n",
      "Mean: -0.42333055388126106\n",
      "Std: -2.4203186008515862\n",
      "\n",
      "Differences in V28\n",
      "Median: -0.40942691128732916\n",
      "Mean: -0.22963366892741047\n",
      "Std: -0.659595811908064\n",
      "\n",
      "Differences in Amount\n",
      "Median: 0.050975509481145154\n",
      "Mean: -0.13561603990553245\n",
      "Std: -0.02630014872375508\n",
      "\n"
     ]
    }
   ],
   "source": [
    "# print(\"Differences between fraud and non-fraud:\")\n",
    "# for i in records0.keys():\n",
    "#     print(\"Differences in\",i)\n",
    "#     print(\"Median:\", records0[i].median()-records1[i].median())\n",
    "#     print(\"Mean:\", records0[i].mean()-records1[i].mean())\n",
    "#     print(\"Std:\", records0[i].std()-records1[i].std())\n",
    "    \n",
    "#     print()"
   ]
  },
  {
   "cell_type": "code",
   "execution_count": 88,
   "metadata": {},
   "outputs": [],
   "source": [
    "top10 = ['V3', 'V4', 'V7', 'V10', 'V11', 'V12', 'V14', 'V16', 'V17', 'V18'] #Based on largest difference in median.\n",
    "top10_perm = ['V14','V12','V17','V10','V4','V16','V7','V2','V11','Amount']\n",
    "X_median = normalized_records[top10].to_numpy()\n",
    "y = targets.to_numpy()\n",
    "\n",
    "X_perm = normalized_records[top10_perm].to_numpy()\n",
    "X_all = normalized_records.to_numpy()"
   ]
  },
  {
   "cell_type": "markdown",
   "metadata": {},
   "source": [
    "### Performance Metrics\n",
    "The function below calculates a series of performance metrics.\n",
    "1. Accuracy - This is the default metric and is not suited for this problem.\n",
    "2. False negatives, False positives, True positives - Gives insight in how it classifies.\n",
    "3. F1 score - Is considered suited for imbalanced datasets.\n",
    "4. AUPRC - Area Under Precision-Recall Curve is the suggested metric from Kaggle.\n",
    "5. AUC ROC - Area Under Curve Receiving Operating Characteristic is widely used for this specific task, but not good for imbalanced datasets\n",
    "6. Average Precision - Should be a good overall measure for this task. \n",
    "7. Mean score for metrics - The mean for 3, 4, 5, 6"
   ]
  },
  {
   "cell_type": "code",
   "execution_count": 89,
   "metadata": {},
   "outputs": [],
   "source": [
    "#True negatives are not printed due to it being the default classification.\n",
    "def evaluate_model(model, name=\"\", verbose=False, dataset=(X_all_smote, X_all_test, y_all_smote, y_all_test)):\n",
    "    _, X_test, _, y_test = dataset\n",
    "    preds = model.predict(X_test)\n",
    "    preds_proba = model.predict_proba(X_test)[:,1]\n",
    "    precision, recall, _ = precision_recall_curve(y_test, preds_proba)\n",
    "    fpr, tpr, _ = roc_curve(y_test, preds_proba)\n",
    "    f1 = f1_score(preds, y_test)\n",
    "    aucroc = auc(fpr, tpr)\n",
    "    auprc = auc(recall, precision)\n",
    "    avg_precision = average_precision_score(y_test, preds_proba)\n",
    "    mean_score = np.mean([f1, auprc, aucroc, avg_precision])\n",
    "    \n",
    "    if verbose:\n",
    "        cm = confusion_matrix(preds, y_test)\n",
    "        tn, fp, fn, tp = cm.ravel()\n",
    "        \n",
    "        print(\"{} performance metrics:\\n-=-=-=-=-=-\".format(name))\n",
    "        print(\"Raw accuracy (bad metric):\", accuracy_score(preds, y_test))\n",
    "        print(\"False negatives:\", fn)\n",
    "        print(\"False positives:\", fp)\n",
    "        print(\"True positives:\", tp)\n",
    "        print(\"F1 score:\", f1)\n",
    "\n",
    "        print(\"AUPRC:\", auprc)\n",
    "        print(\"AUC ROC:\", aucroc)\n",
    "        print(\"Average Precision Score:\", avg_precision)\n",
    "        print(\"Mean Score for Metrics:\", mean_score)\n",
    "        print()\n",
    "    \n",
    "    return [f1, auprc, aucroc, avg_precision, mean_score]\n",
    "\n",
    "def print_scores(scores, name=\"\"):\n",
    "    print(\"{} performance metrics:\\n-=-=-=-=-=-\".format(name))\n",
    "    print(\"F1 score:\", scores[0])\n",
    "    print(\"AUPRC:\", scores[1])\n",
    "    print(\"AUC ROC:\", scores[2])\n",
    "    print(\"Average Precision Score:\", scores[3])\n",
    "    print(\"Mean Score for Metrics:\", scores[4])\n",
    "    print()\n",
    "\n",
    "def AUC_PR(preds_proba):\n",
    "    precision, recall, _ = precision_recall_curve(y_test, preds_proba)\n",
    "    auprc = auc(recall, precision)\n",
    "    return auprc"
   ]
  },
  {
   "cell_type": "markdown",
   "metadata": {},
   "source": [
    "## Evaluation\n",
    "Using Stratified K-fold and the metrics above"
   ]
  },
  {
   "cell_type": "code",
   "execution_count": 90,
   "metadata": {},
   "outputs": [],
   "source": [
    "oversample = imblearn.over_sampling.SMOTE()\n",
    "\n",
    "#All dataset\n",
    "X_all_train, X_all_test, y_all_train, y_all_test = train_test_split(X_all, y, random_state=42)\n",
    "X_all_smote, y_all_smote = oversample.fit_resample(X_all_train, y_all_train)\n",
    "\n",
    "#Top 10 median dataset\n",
    "X_median_train, X_median_test, y_median_train, y_median_test = train_test_split(X_median, y, random_state=42)\n",
    "X_median_smote, y_median_smote = oversample.fit_resample(X_median_train, y_median_train)\n",
    "\n",
    "#Top 10 perm dataset\n",
    "X_perm_train, X_perm_test, y_perm_train, y_perm_test = train_test_split(X_perm, y, random_state=42)\n",
    "X_perm_smote, y_perm_smote = oversample.fit_resample(X_perm_train, y_median_train)"
   ]
  },
  {
   "cell_type": "code",
   "execution_count": 120,
   "metadata": {},
   "outputs": [],
   "source": [
    "skf = StratifiedKFold(n_splits=5)\n",
    "lrg = LogisticRegression(n_jobs=4, random_state=42)\n",
    "knn = KNeighborsClassifier(n_jobs=4)\n",
    "rfc = RandomForestClassifier(n_estimators=300, n_jobs=4, random_state=42)\n",
    "nbc = GaussianNB()\n",
    "mlp = MLPClassifier(hidden_layer_sizes=[1000,200], random_state=42) #1000 500\n",
    "dum = DummyClassifier(random_state=42)\n",
    "\n",
    "\n",
    "def cross_val_train_model(model, name=\"\", dataset=(X_all_smote, X_all_test, y_all_smote, y_all_test)):\n",
    "    X_train, X_test, y_train, y_test = dataset \n",
    "    \n",
    "    accuracies = []\n",
    "    for train_index, valid_index in tqdm(skf.split(X_train,y_train)):\n",
    "        X_strat_train, X_valid = X_train[train_index], X_train[valid_index]\n",
    "        y_strat_train, y_valid = y_train[train_index], y_train[valid_index]\n",
    "\n",
    "        model.fit(X_strat_train, y_strat_train)\n",
    "        accuracies.append(evaluate_model(model, dataset=dataset))\n",
    "\n",
    "    print_scores(np.mean(accuracies, axis=0), name=name)\n",
    "\n",
    "def model_prediction(model, dataset=(X_all_smote, X_all_test, y_all_smote, y_all_test)):\n",
    "    X_train, X_test, y_train, y_test = dataset\n",
    "    model.fit(X_train, y_train)\n",
    "    return model.predict_proba(X_test)"
   ]
  },
  {
   "cell_type": "code",
   "execution_count": 110,
   "metadata": {},
   "outputs": [],
   "source": [
    "#cross_val_train_model(dum, name=\"Baseline\", dataset=(X_median_smote, X_median_test, y_median_smote, y_median_test))\n",
    "# cross_val_train_model(lrg, name=\"Logistic Regression\")\n",
    "# cross_val_train_model(knn, name=\"K-Nearest neighbours\")\n",
    "# cross_val_train_model(rfc, name=\"Random Forest\")\n",
    "# cross_val_train_model(nb, name=\"Naive Bayes\")\n",
    "# cross_val_train_model(mlp, name=\"Multilayer Perceptron\")"
   ]
  },
  {
   "cell_type": "code",
   "execution_count": 121,
   "metadata": {},
   "outputs": [],
   "source": [
    "def train_on_all_sets(model, name=\"\"):\n",
    "    #Function does 5-fold cross validation and returns predictions on test set. \n",
    "    datasets = {\n",
    "        'all' : (X_all_smote, X_all_test, y_all_smote, y_all_test),\n",
    "        'median' : (X_median_smote, X_median_test, y_median_smote, y_median_test),\n",
    "        'perm' : (X_perm_smote, X_perm_test, y_perm_smote, y_perm_test)\n",
    "    }\n",
    "    preds = {\n",
    "        'all' : None,\n",
    "        'median' : None,\n",
    "        'perm' : None\n",
    "    }\n",
    "    for dataset in datasets:\n",
    "        cross_val_train_model(model, name=\"{}_{}\".format(name, dataset), dataset=datasets[dataset])\n",
    "        preds[dataset] = model_prediction(model, dataset=datasets[dataset])\n",
    "    \n",
    "    return preds"
   ]
  },
  {
   "cell_type": "code",
   "execution_count": null,
   "metadata": {},
   "outputs": [
    {
     "name": "stderr",
     "output_type": "stream",
     "text": [
      "5it [00:00,  7.38it/s]\n",
      "1it [00:00,  7.77it/s]"
     ]
    },
    {
     "name": "stdout",
     "output_type": "stream",
     "text": [
      "Baseline_all performance metrics:\n",
      "-=-=-=-=-=-\n",
      "F1 score: 0.0006338077543293836\n",
      "AUPRC: 0.5007935170360384\n",
      "AUC ROC: 0.5\n",
      "Average Precision Score: 0.001587034072076627\n",
      "Mean Score for Metrics: 0.2507535897156111\n",
      "\n"
     ]
    },
    {
     "name": "stderr",
     "output_type": "stream",
     "text": [
      "5it [00:00,  9.44it/s]\n",
      "1it [00:00,  6.31it/s]"
     ]
    },
    {
     "name": "stdout",
     "output_type": "stream",
     "text": [
      "Baseline_median performance metrics:\n",
      "-=-=-=-=-=-\n",
      "F1 score: 0.0006338077543293836\n",
      "AUPRC: 0.5007935170360384\n",
      "AUC ROC: 0.5\n",
      "Average Precision Score: 0.001587034072076627\n",
      "Mean Score for Metrics: 0.2507535897156111\n",
      "\n"
     ]
    },
    {
     "name": "stderr",
     "output_type": "stream",
     "text": [
      "5it [00:00,  9.18it/s]\n",
      "0it [00:00, ?it/s]"
     ]
    },
    {
     "name": "stdout",
     "output_type": "stream",
     "text": [
      "Baseline_perm performance metrics:\n",
      "-=-=-=-=-=-\n",
      "F1 score: 0.0006338077543293836\n",
      "AUPRC: 0.5007935170360384\n",
      "AUC ROC: 0.5\n",
      "Average Precision Score: 0.001587034072076627\n",
      "Mean Score for Metrics: 0.2507535897156111\n",
      "\n"
     ]
    },
    {
     "name": "stderr",
     "output_type": "stream",
     "text": [
      "5it [01:14, 14.93s/it]\n"
     ]
    },
    {
     "name": "stdout",
     "output_type": "stream",
     "text": [
      "Logistic Regression_all performance metrics:\n",
      "-=-=-=-=-=-\n",
      "F1 score: 0.10145712853414586\n",
      "AUPRC: 0.7641884147257637\n",
      "AUC ROC: 0.9776063209809166\n",
      "Average Precision Score: 0.7241036401982139\n",
      "Mean Score for Metrics: 0.64183887610976\n",
      "\n"
     ]
    },
    {
     "name": "stderr",
     "output_type": "stream",
     "text": [
      "5it [00:07,  1.57s/it]\n"
     ]
    },
    {
     "name": "stdout",
     "output_type": "stream",
     "text": [
      "Logistic Regression_median performance metrics:\n",
      "-=-=-=-=-=-\n",
      "F1 score: 0.09928810532391544\n",
      "AUPRC: 0.7346279747515722\n",
      "AUC ROC: 0.9769084422032608\n",
      "Average Precision Score: 0.727644421336276\n",
      "Mean Score for Metrics: 0.6346172359037561\n",
      "\n"
     ]
    },
    {
     "name": "stderr",
     "output_type": "stream",
     "text": [
      "5it [00:08,  1.66s/it]\n"
     ]
    },
    {
     "name": "stdout",
     "output_type": "stream",
     "text": [
      "Logistic Regression_perm performance metrics:\n",
      "-=-=-=-=-=-\n",
      "F1 score: 0.09865114295269871\n",
      "AUPRC: 0.7333503805288295\n",
      "AUC ROC: 0.9766535454684313\n",
      "Average Precision Score: 0.7345513215728412\n",
      "Mean Score for Metrics: 0.6358015976307002\n",
      "\n"
     ]
    },
    {
     "name": "stderr",
     "output_type": "stream",
     "text": [
      "5it [2:35:14, 1862.98s/it]\n"
     ]
    },
    {
     "name": "stdout",
     "output_type": "stream",
     "text": [
      "Multilayer Perceptron_all performance metrics:\n",
      "-=-=-=-=-=-\n",
      "F1 score: 0.7555006493936492\n",
      "AUPRC: 0.8172491603410876\n",
      "AUC ROC: 0.9640903954745996\n",
      "Average Precision Score: 0.8167369749950024\n",
      "Mean Score for Metrics: 0.8383942950510848\n",
      "\n"
     ]
    },
    {
     "name": "stderr",
     "output_type": "stream",
     "text": [
      "\r",
      "0it [00:00, ?it/s]"
     ]
    }
   ],
   "source": [
    "dum_preds = train_on_all_sets(dum, name=\"Baseline\")\n",
    "lrg_preds = train_on_all_sets(lrg, name=\"Logistic Regression\")\n",
    "mlp_preds = train_on_all_sets(mlp, name=\"Multilayer Perceptron\")\n",
    "rfc_preds = train_on_all_sets(rfc, name=\"Random Forest\")\n",
    "nbc_preds = train_on_all_sets(nbc, name=\"Naive Bayes\")"
   ]
  },
  {
   "cell_type": "code",
   "execution_count": 58,
   "metadata": {},
   "outputs": [
    {
     "name": "stderr",
     "output_type": "stream",
     "text": [
      "\r",
      "0it [00:00, ?it/s]"
     ]
    },
    {
     "name": "stdout",
     "output_type": "stream",
     "text": [
      "Epoch 1/1000\n",
      "8529/8529 [==============================] - 17s 2ms/step - loss: 0.1845 - prc: 0.9797 - val_loss: 0.1305 - val_prc: 0.9903\n",
      "Epoch 2/1000\n",
      "8529/8529 [==============================] - 14s 2ms/step - loss: 0.1434 - prc: 0.9874 - val_loss: 0.1050 - val_prc: 0.9943\n",
      "Epoch 3/1000\n",
      "8529/8529 [==============================] - 15s 2ms/step - loss: 0.1307 - prc: 0.9897 - val_loss: 0.0880 - val_prc: 0.9963\n",
      "Epoch 4/1000\n",
      "8529/8529 [==============================] - 14s 2ms/step - loss: 0.1226 - prc: 0.9910 - val_loss: 0.0799 - val_prc: 0.9967\n",
      "Epoch 5/1000\n",
      "8529/8529 [==============================] - 14s 2ms/step - loss: 0.1163 - prc: 0.9919 - val_loss: 0.0723 - val_prc: 0.9975\n",
      "Epoch 6/1000\n",
      "8529/8529 [==============================] - 14s 2ms/step - loss: 0.1095 - prc: 0.9928 - val_loss: 0.0662 - val_prc: 0.9979\n",
      "Epoch 7/1000\n",
      "8529/8529 [==============================] - 14s 2ms/step - loss: 0.1074 - prc: 0.9931 - val_loss: 0.0615 - val_prc: 0.9981\n",
      "Epoch 8/1000\n",
      "8529/8529 [==============================] - 14s 2ms/step - loss: 0.1023 - prc: 0.9937 - val_loss: 0.0575 - val_prc: 0.9982\n",
      "Epoch 9/1000\n",
      "8529/8529 [==============================] - 14s 2ms/step - loss: 0.1010 - prc: 0.9938 - val_loss: 0.0542 - val_prc: 0.9985\n",
      "Epoch 10/1000\n",
      "8529/8529 [==============================] - 14s 2ms/step - loss: 0.1000 - prc: 0.9939 - val_loss: 0.0522 - val_prc: 0.9987\n",
      "Epoch 11/1000\n",
      "8529/8529 [==============================] - 14s 2ms/step - loss: 0.0952 - prc: 0.9945 - val_loss: 0.0481 - val_prc: 0.9988\n",
      "Epoch 12/1000\n",
      "8529/8529 [==============================] - 14s 2ms/step - loss: 0.0953 - prc: 0.9945 - val_loss: 0.0495 - val_prc: 0.9988\n",
      "Epoch 13/1000\n",
      "8529/8529 [==============================] - 14s 2ms/step - loss: 0.0926 - prc: 0.9947 - val_loss: 0.0484 - val_prc: 0.9989\n",
      "Epoch 14/1000\n",
      "8529/8529 [==============================] - 14s 2ms/step - loss: 0.0918 - prc: 0.9948 - val_loss: 0.0459 - val_prc: 0.9989\n",
      "Epoch 15/1000\n",
      "8529/8529 [==============================] - 14s 2ms/step - loss: 0.0904 - prc: 0.9950 - val_loss: 0.0436 - val_prc: 0.9990\n",
      "Epoch 16/1000\n",
      "8529/8529 [==============================] - 14s 2ms/step - loss: 0.0906 - prc: 0.9950 - val_loss: 0.0429 - val_prc: 0.9991\n",
      "Epoch 17/1000\n",
      "8529/8529 [==============================] - 14s 2ms/step - loss: 0.0880 - prc: 0.9953 - val_loss: 0.0409 - val_prc: 0.9991\n",
      "Epoch 18/1000\n",
      "8529/8529 [==============================] - 14s 2ms/step - loss: 0.0882 - prc: 0.9952 - val_loss: 0.0394 - val_prc: 0.9991\n",
      "Epoch 19/1000\n",
      "8529/8529 [==============================] - 14s 2ms/step - loss: 0.0862 - prc: 0.9954 - val_loss: 0.0412 - val_prc: 0.9992\n",
      "Epoch 20/1000\n",
      "8529/8529 [==============================] - 14s 2ms/step - loss: 0.0869 - prc: 0.9953 - val_loss: 0.0407 - val_prc: 0.9991\n",
      "Epoch 21/1000\n",
      "8529/8529 [==============================] - 14s 2ms/step - loss: 0.0847 - prc: 0.9956 - val_loss: 0.0406 - val_prc: 0.9992\n",
      "Epoch 22/1000\n",
      "8529/8529 [==============================] - 14s 2ms/step - loss: 0.0848 - prc: 0.9955 - val_loss: 0.0391 - val_prc: 0.9992\n",
      "Epoch 23/1000\n",
      "8529/8529 [==============================] - 14s 2ms/step - loss: 0.0849 - prc: 0.9955 - val_loss: 0.0398 - val_prc: 0.9992\n",
      "Epoch 24/1000\n",
      "8529/8529 [==============================] - 14s 2ms/step - loss: 0.0841 - prc: 0.9956 - val_loss: 0.0380 - val_prc: 0.9992\n",
      "Epoch 25/1000\n",
      "8529/8529 [==============================] - 14s 2ms/step - loss: 0.0835 - prc: 0.9957 - val_loss: 0.0420 - val_prc: 0.9992\n",
      "Epoch 26/1000\n",
      "8529/8529 [==============================] - 14s 2ms/step - loss: 0.0832 - prc: 0.9957 - val_loss: 0.0373 - val_prc: 0.9992\n",
      "Epoch 27/1000\n",
      "8529/8529 [==============================] - 14s 2ms/step - loss: 0.0826 - prc: 0.9958 - val_loss: 0.0378 - val_prc: 0.9992\n",
      "Epoch 28/1000\n",
      "8529/8529 [==============================] - 14s 2ms/step - loss: 0.0817 - prc: 0.9959 - val_loss: 0.0357 - val_prc: 0.9993\n",
      "Epoch 29/1000\n",
      "8529/8529 [==============================] - 14s 2ms/step - loss: 0.0810 - prc: 0.9960 - val_loss: 0.0347 - val_prc: 0.9993\n",
      "Epoch 30/1000\n",
      "8529/8529 [==============================] - 14s 2ms/step - loss: 0.0807 - prc: 0.9959 - val_loss: 0.0357 - val_prc: 0.9992\n",
      "Epoch 31/1000\n",
      "8529/8529 [==============================] - 14s 2ms/step - loss: 0.0811 - prc: 0.9960 - val_loss: 0.0351 - val_prc: 0.9992\n",
      "Epoch 32/1000\n",
      "8529/8529 [==============================] - 14s 2ms/step - loss: 0.0803 - prc: 0.9959 - val_loss: 0.0394 - val_prc: 0.9993\n",
      "Epoch 33/1000\n",
      "8529/8529 [==============================] - 14s 2ms/step - loss: 0.0804 - prc: 0.9960 - val_loss: 0.0368 - val_prc: 0.9993\n",
      "Epoch 34/1000\n",
      "8529/8529 [==============================] - 14s 2ms/step - loss: 0.0791 - prc: 0.9960 - val_loss: 0.0369 - val_prc: 0.9993\n"
     ]
    },
    {
     "name": "stderr",
     "output_type": "stream",
     "text": [
      "\r",
      "1it [07:59, 479.03s/it]"
     ]
    },
    {
     "name": "stdout",
     "output_type": "stream",
     "text": [
      "Epoch 1/1000\n",
      "8529/8529 [==============================] - 14s 2ms/step - loss: 0.1836 - prc: 0.9798 - val_loss: 0.1277 - val_prc: 0.9906\n",
      "Epoch 2/1000\n",
      "8529/8529 [==============================] - 14s 2ms/step - loss: 0.1426 - prc: 0.9876 - val_loss: 0.1035 - val_prc: 0.9941\n",
      "Epoch 3/1000\n",
      "8529/8529 [==============================] - 14s 2ms/step - loss: 0.1288 - prc: 0.9900 - val_loss: 0.0907 - val_prc: 0.9956\n",
      "Epoch 4/1000\n",
      "8529/8529 [==============================] - 14s 2ms/step - loss: 0.1197 - prc: 0.9914 - val_loss: 0.0804 - val_prc: 0.9965\n",
      "Epoch 5/1000\n",
      "8529/8529 [==============================] - 14s 2ms/step - loss: 0.1134 - prc: 0.9923 - val_loss: 0.0712 - val_prc: 0.9974\n",
      "Epoch 6/1000\n",
      "8529/8529 [==============================] - 14s 2ms/step - loss: 0.1078 - prc: 0.9930 - val_loss: 0.0655 - val_prc: 0.9978\n",
      "Epoch 7/1000\n",
      "8529/8529 [==============================] - 14s 2ms/step - loss: 0.1045 - prc: 0.9934 - val_loss: 0.0595 - val_prc: 0.9982\n",
      "Epoch 8/1000\n",
      "8529/8529 [==============================] - 14s 2ms/step - loss: 0.0999 - prc: 0.9939 - val_loss: 0.0563 - val_prc: 0.9983\n",
      "Epoch 9/1000\n",
      "8529/8529 [==============================] - 14s 2ms/step - loss: 0.0981 - prc: 0.9942 - val_loss: 0.0525 - val_prc: 0.9984\n",
      "Epoch 10/1000\n",
      "8529/8529 [==============================] - 14s 2ms/step - loss: 0.0949 - prc: 0.9945 - val_loss: 0.0495 - val_prc: 0.9985\n",
      "Epoch 11/1000\n",
      "8529/8529 [==============================] - 14s 2ms/step - loss: 0.0948 - prc: 0.9946 - val_loss: 0.0487 - val_prc: 0.9986\n",
      "Epoch 12/1000\n",
      "8529/8529 [==============================] - 14s 2ms/step - loss: 0.0930 - prc: 0.9947 - val_loss: 0.0456 - val_prc: 0.9988\n",
      "Epoch 13/1000\n",
      "8529/8529 [==============================] - 14s 2ms/step - loss: 0.0918 - prc: 0.9949 - val_loss: 0.0472 - val_prc: 0.9989\n",
      "Epoch 14/1000\n",
      "8529/8529 [==============================] - 14s 2ms/step - loss: 0.0898 - prc: 0.9951 - val_loss: 0.0443 - val_prc: 0.9989\n",
      "Epoch 15/1000\n",
      "8529/8529 [==============================] - 14s 2ms/step - loss: 0.0893 - prc: 0.9952 - val_loss: 0.0455 - val_prc: 0.9988\n",
      "Epoch 16/1000\n",
      "8529/8529 [==============================] - 14s 2ms/step - loss: 0.0878 - prc: 0.9953 - val_loss: 0.0401 - val_prc: 0.9990\n",
      "Epoch 17/1000\n",
      "8529/8529 [==============================] - 14s 2ms/step - loss: 0.0874 - prc: 0.9953 - val_loss: 0.0436 - val_prc: 0.9989\n",
      "Epoch 18/1000\n",
      "8529/8529 [==============================] - 14s 2ms/step - loss: 0.0873 - prc: 0.9953 - val_loss: 0.0379 - val_prc: 0.9991\n",
      "Epoch 19/1000\n",
      "8529/8529 [==============================] - 14s 2ms/step - loss: 0.0862 - prc: 0.9954 - val_loss: 0.0395 - val_prc: 0.9990\n",
      "Epoch 20/1000\n",
      "8529/8529 [==============================] - 14s 2ms/step - loss: 0.0853 - prc: 0.9955 - val_loss: 0.0392 - val_prc: 0.9990\n",
      "Epoch 21/1000\n",
      "8529/8529 [==============================] - 14s 2ms/step - loss: 0.0841 - prc: 0.9956 - val_loss: 0.0389 - val_prc: 0.9991\n",
      "Epoch 22/1000\n",
      "8529/8529 [==============================] - 14s 2ms/step - loss: 0.0843 - prc: 0.9956 - val_loss: 0.0379 - val_prc: 0.9991\n",
      "Epoch 23/1000\n",
      "8529/8529 [==============================] - 14s 2ms/step - loss: 0.0833 - prc: 0.9957 - val_loss: 0.0402 - val_prc: 0.9990\n"
     ]
    },
    {
     "name": "stderr",
     "output_type": "stream",
     "text": [
      "\r",
      "2it [13:19, 431.58s/it]"
     ]
    },
    {
     "name": "stdout",
     "output_type": "stream",
     "text": [
      "Epoch 1/1000\n",
      "8529/8529 [==============================] - 15s 2ms/step - loss: 0.1806 - prc: 0.9804 - val_loss: 0.1220 - val_prc: 0.9917\n",
      "Epoch 2/1000\n",
      "8529/8529 [==============================] - 13s 2ms/step - loss: 0.1420 - prc: 0.9878 - val_loss: 0.1011 - val_prc: 0.9947\n",
      "Epoch 3/1000\n",
      "8529/8529 [==============================] - 14s 2ms/step - loss: 0.1298 - prc: 0.9898 - val_loss: 0.0873 - val_prc: 0.9961\n",
      "Epoch 4/1000\n",
      "8529/8529 [==============================] - 14s 2ms/step - loss: 0.1205 - prc: 0.9914 - val_loss: 0.0798 - val_prc: 0.9966\n",
      "Epoch 5/1000\n",
      "8529/8529 [==============================] - 14s 2ms/step - loss: 0.1134 - prc: 0.9923 - val_loss: 0.0709 - val_prc: 0.9974\n",
      "Epoch 6/1000\n",
      "8529/8529 [==============================] - 14s 2ms/step - loss: 0.1092 - prc: 0.9929 - val_loss: 0.0655 - val_prc: 0.9977\n",
      "Epoch 7/1000\n",
      "8529/8529 [==============================] - 13s 2ms/step - loss: 0.1057 - prc: 0.9934 - val_loss: 0.0614 - val_prc: 0.9983\n",
      "Epoch 8/1000\n",
      "8529/8529 [==============================] - 13s 2ms/step - loss: 0.1019 - prc: 0.9938 - val_loss: 0.0556 - val_prc: 0.9986\n",
      "Epoch 9/1000\n",
      "8529/8529 [==============================] - 14s 2ms/step - loss: 0.1005 - prc: 0.9940 - val_loss: 0.0529 - val_prc: 0.9985\n",
      "Epoch 10/1000\n",
      "8529/8529 [==============================] - 14s 2ms/step - loss: 0.0966 - prc: 0.9943 - val_loss: 0.0502 - val_prc: 0.9988\n",
      "Epoch 11/1000\n",
      "8529/8529 [==============================] - 14s 2ms/step - loss: 0.0944 - prc: 0.9947 - val_loss: 0.0493 - val_prc: 0.9989\n",
      "Epoch 12/1000\n",
      "8529/8529 [==============================] - 14s 2ms/step - loss: 0.0927 - prc: 0.9948 - val_loss: 0.0484 - val_prc: 0.9989\n",
      "Epoch 13/1000\n",
      "8529/8529 [==============================] - 14s 2ms/step - loss: 0.0924 - prc: 0.9948 - val_loss: 0.0477 - val_prc: 0.9989\n",
      "Epoch 14/1000\n",
      "8529/8529 [==============================] - 14s 2ms/step - loss: 0.0902 - prc: 0.9951 - val_loss: 0.0425 - val_prc: 0.9990\n",
      "Epoch 15/1000\n",
      "8529/8529 [==============================] - 13s 2ms/step - loss: 0.0897 - prc: 0.9951 - val_loss: 0.0424 - val_prc: 0.9990\n",
      "Epoch 16/1000\n",
      "8529/8529 [==============================] - 14s 2ms/step - loss: 0.0884 - prc: 0.9952 - val_loss: 0.0430 - val_prc: 0.9991\n",
      "Epoch 17/1000\n",
      "8529/8529 [==============================] - 13s 2ms/step - loss: 0.0875 - prc: 0.9953 - val_loss: 0.0427 - val_prc: 0.9991\n",
      "Epoch 18/1000\n",
      "8529/8529 [==============================] - 13s 2ms/step - loss: 0.0869 - prc: 0.9954 - val_loss: 0.0393 - val_prc: 0.9992\n",
      "Epoch 19/1000\n",
      "8529/8529 [==============================] - 13s 2ms/step - loss: 0.0865 - prc: 0.9954 - val_loss: 0.0408 - val_prc: 0.9992\n",
      "Epoch 20/1000\n",
      "8529/8529 [==============================] - 13s 2ms/step - loss: 0.0869 - prc: 0.9955 - val_loss: 0.0395 - val_prc: 0.9991\n",
      "Epoch 21/1000\n",
      "8529/8529 [==============================] - 13s 2ms/step - loss: 0.0858 - prc: 0.9955 - val_loss: 0.0379 - val_prc: 0.9992\n",
      "Epoch 22/1000\n",
      "8529/8529 [==============================] - 13s 2ms/step - loss: 0.0844 - prc: 0.9956 - val_loss: 0.0384 - val_prc: 0.9992\n",
      "Epoch 23/1000\n",
      "8529/8529 [==============================] - 14s 2ms/step - loss: 0.0844 - prc: 0.9956 - val_loss: 0.0389 - val_prc: 0.9992\n",
      "Epoch 24/1000\n",
      "8529/8529 [==============================] - 14s 2ms/step - loss: 0.0827 - prc: 0.9956 - val_loss: 0.0357 - val_prc: 0.9992\n",
      "Epoch 25/1000\n",
      "8529/8529 [==============================] - 14s 2ms/step - loss: 0.0831 - prc: 0.9958 - val_loss: 0.0388 - val_prc: 0.9992\n",
      "Epoch 26/1000\n",
      "8529/8529 [==============================] - 13s 2ms/step - loss: 0.0833 - prc: 0.9957 - val_loss: 0.0350 - val_prc: 0.9993\n",
      "Epoch 27/1000\n",
      "8529/8529 [==============================] - 14s 2ms/step - loss: 0.0830 - prc: 0.9957 - val_loss: 0.0342 - val_prc: 0.9993\n",
      "Epoch 28/1000\n",
      "8529/8529 [==============================] - 14s 2ms/step - loss: 0.0804 - prc: 0.9960 - val_loss: 0.0347 - val_prc: 0.9993\n",
      "Epoch 29/1000\n",
      "8529/8529 [==============================] - 14s 2ms/step - loss: 0.0826 - prc: 0.9958 - val_loss: 0.0348 - val_prc: 0.9993\n",
      "Epoch 30/1000\n",
      "8529/8529 [==============================] - 15s 2ms/step - loss: 0.0803 - prc: 0.9960 - val_loss: 0.0380 - val_prc: 0.9993\n",
      "Epoch 31/1000\n",
      "8529/8529 [==============================] - 14s 2ms/step - loss: 0.0808 - prc: 0.9960 - val_loss: 0.0333 - val_prc: 0.9993\n",
      "Epoch 32/1000\n",
      "8529/8529 [==============================] - 14s 2ms/step - loss: 0.0808 - prc: 0.9959 - val_loss: 0.0354 - val_prc: 0.9992\n",
      "Epoch 33/1000\n",
      "8529/8529 [==============================] - 14s 2ms/step - loss: 0.0800 - prc: 0.9961 - val_loss: 0.0333 - val_prc: 0.9993\n",
      "Epoch 34/1000\n",
      "8529/8529 [==============================] - 14s 2ms/step - loss: 0.0798 - prc: 0.9960 - val_loss: 0.0329 - val_prc: 0.9993\n",
      "Epoch 35/1000\n",
      "8529/8529 [==============================] - 14s 2ms/step - loss: 0.0795 - prc: 0.9960 - val_loss: 0.0352 - val_prc: 0.9993\n",
      "Epoch 36/1000\n",
      "8529/8529 [==============================] - 13s 2ms/step - loss: 0.0788 - prc: 0.9961 - val_loss: 0.0341 - val_prc: 0.9993\n",
      "Epoch 37/1000\n",
      "8529/8529 [==============================] - 13s 2ms/step - loss: 0.0798 - prc: 0.9960 - val_loss: 0.0365 - val_prc: 0.9993\n",
      "Epoch 38/1000\n",
      "8529/8529 [==============================] - 13s 2ms/step - loss: 0.0787 - prc: 0.9962 - val_loss: 0.0334 - val_prc: 0.9993\n",
      "Epoch 39/1000\n",
      "8529/8529 [==============================] - 13s 2ms/step - loss: 0.0789 - prc: 0.9961 - val_loss: 0.0340 - val_prc: 0.9993\n"
     ]
    },
    {
     "name": "stderr",
     "output_type": "stream",
     "text": [
      "\r",
      "3it [22:17, 463.39s/it]"
     ]
    },
    {
     "name": "stdout",
     "output_type": "stream",
     "text": [
      "Epoch 1/1000\n",
      "8529/8529 [==============================] - 14s 2ms/step - loss: 0.1844 - prc: 0.9797 - val_loss: 0.1289 - val_prc: 0.9906\n",
      "Epoch 2/1000\n",
      "8529/8529 [==============================] - 14s 2ms/step - loss: 0.1443 - prc: 0.9874 - val_loss: 0.1031 - val_prc: 0.9945\n",
      "Epoch 3/1000\n",
      "8529/8529 [==============================] - 14s 2ms/step - loss: 0.1315 - prc: 0.9896 - val_loss: 0.0893 - val_prc: 0.9958\n",
      "Epoch 4/1000\n",
      "8529/8529 [==============================] - 14s 2ms/step - loss: 0.1228 - prc: 0.9909 - val_loss: 0.0787 - val_prc: 0.9967\n",
      "Epoch 5/1000\n",
      "8529/8529 [==============================] - 14s 2ms/step - loss: 0.1173 - prc: 0.9917 - val_loss: 0.0726 - val_prc: 0.9975\n",
      "Epoch 6/1000\n",
      "8529/8529 [==============================] - 14s 2ms/step - loss: 0.1103 - prc: 0.9927 - val_loss: 0.0652 - val_prc: 0.9977\n",
      "Epoch 7/1000\n",
      "8529/8529 [==============================] - 14s 2ms/step - loss: 0.1061 - prc: 0.9933 - val_loss: 0.0596 - val_prc: 0.9982\n",
      "Epoch 8/1000\n",
      "8529/8529 [==============================] - 14s 2ms/step - loss: 0.1020 - prc: 0.9938 - val_loss: 0.0581 - val_prc: 0.9982\n",
      "Epoch 9/1000\n",
      "8529/8529 [==============================] - 13s 2ms/step - loss: 0.0998 - prc: 0.9940 - val_loss: 0.0561 - val_prc: 0.9984\n",
      "Epoch 10/1000\n",
      "8529/8529 [==============================] - 14s 2ms/step - loss: 0.0974 - prc: 0.9943 - val_loss: 0.0530 - val_prc: 0.9985\n",
      "Epoch 11/1000\n",
      "8529/8529 [==============================] - 14s 2ms/step - loss: 0.0958 - prc: 0.9945 - val_loss: 0.0493 - val_prc: 0.9987\n",
      "Epoch 12/1000\n",
      "8529/8529 [==============================] - 14s 2ms/step - loss: 0.0945 - prc: 0.9946 - val_loss: 0.0487 - val_prc: 0.9986\n",
      "Epoch 13/1000\n",
      "8529/8529 [==============================] - 13s 2ms/step - loss: 0.0922 - prc: 0.9948 - val_loss: 0.0446 - val_prc: 0.9989\n",
      "Epoch 14/1000\n",
      "8529/8529 [==============================] - 13s 2ms/step - loss: 0.0917 - prc: 0.9949 - val_loss: 0.0467 - val_prc: 0.9988\n",
      "Epoch 15/1000\n",
      "8529/8529 [==============================] - 13s 2ms/step - loss: 0.0911 - prc: 0.9949 - val_loss: 0.0481 - val_prc: 0.9989\n",
      "Epoch 16/1000\n",
      "8529/8529 [==============================] - 13s 2ms/step - loss: 0.0893 - prc: 0.9952 - val_loss: 0.0411 - val_prc: 0.9990\n",
      "Epoch 17/1000\n",
      "8529/8529 [==============================] - 14s 2ms/step - loss: 0.0890 - prc: 0.9951 - val_loss: 0.0418 - val_prc: 0.9990\n",
      "Epoch 18/1000\n",
      "8529/8529 [==============================] - 13s 2ms/step - loss: 0.0879 - prc: 0.9953 - val_loss: 0.0426 - val_prc: 0.9990\n",
      "Epoch 19/1000\n",
      "8529/8529 [==============================] - 13s 2ms/step - loss: 0.0859 - prc: 0.9955 - val_loss: 0.0414 - val_prc: 0.9990\n",
      "Epoch 20/1000\n",
      "8529/8529 [==============================] - 13s 2ms/step - loss: 0.0862 - prc: 0.9955 - val_loss: 0.0402 - val_prc: 0.9991\n",
      "Epoch 21/1000\n",
      "8529/8529 [==============================] - 13s 2ms/step - loss: 0.0854 - prc: 0.9955 - val_loss: 0.0378 - val_prc: 0.9992\n",
      "Epoch 22/1000\n",
      "8529/8529 [==============================] - 13s 2ms/step - loss: 0.0847 - prc: 0.9956 - val_loss: 0.0386 - val_prc: 0.9991\n",
      "Epoch 23/1000\n",
      "8529/8529 [==============================] - 13s 2ms/step - loss: 0.0841 - prc: 0.9957 - val_loss: 0.0376 - val_prc: 0.9992\n",
      "Epoch 24/1000\n",
      "8529/8529 [==============================] - 13s 2ms/step - loss: 0.0849 - prc: 0.9956 - val_loss: 0.0387 - val_prc: 0.9992\n",
      "Epoch 25/1000\n",
      "8529/8529 [==============================] - 13s 2ms/step - loss: 0.0827 - prc: 0.9958 - val_loss: 0.0390 - val_prc: 0.9991\n",
      "Epoch 26/1000\n",
      "8529/8529 [==============================] - 13s 2ms/step - loss: 0.0823 - prc: 0.9958 - val_loss: 0.0382 - val_prc: 0.9992\n",
      "Epoch 27/1000\n",
      "8529/8529 [==============================] - 13s 2ms/step - loss: 0.0819 - prc: 0.9958 - val_loss: 0.0361 - val_prc: 0.9992\n",
      "Epoch 28/1000\n",
      "8529/8529 [==============================] - 13s 2ms/step - loss: 0.0824 - prc: 0.9958 - val_loss: 0.0348 - val_prc: 0.9992\n",
      "Epoch 29/1000\n",
      "8529/8529 [==============================] - 13s 2ms/step - loss: 0.0819 - prc: 0.9958 - val_loss: 0.0378 - val_prc: 0.9992\n",
      "Epoch 30/1000\n",
      "8529/8529 [==============================] - 13s 2ms/step - loss: 0.0807 - prc: 0.9960 - val_loss: 0.0352 - val_prc: 0.9992\n",
      "Epoch 31/1000\n",
      "8529/8529 [==============================] - 13s 2ms/step - loss: 0.0809 - prc: 0.9959 - val_loss: 0.0350 - val_prc: 0.9993\n",
      "Epoch 32/1000\n",
      "8529/8529 [==============================] - 13s 2ms/step - loss: 0.0807 - prc: 0.9959 - val_loss: 0.0382 - val_prc: 0.9992\n",
      "Epoch 33/1000\n",
      "8529/8529 [==============================] - 13s 2ms/step - loss: 0.0800 - prc: 0.9960 - val_loss: 0.0338 - val_prc: 0.9993\n",
      "Epoch 34/1000\n",
      "8529/8529 [==============================] - 13s 2ms/step - loss: 0.0808 - prc: 0.9960 - val_loss: 0.0346 - val_prc: 0.9993\n",
      "Epoch 35/1000\n",
      "8529/8529 [==============================] - 14s 2ms/step - loss: 0.0806 - prc: 0.9959 - val_loss: 0.0354 - val_prc: 0.9993\n",
      "Epoch 36/1000\n",
      "8529/8529 [==============================] - 13s 2ms/step - loss: 0.0797 - prc: 0.9961 - val_loss: 0.0355 - val_prc: 0.9993\n",
      "Epoch 37/1000\n",
      "8529/8529 [==============================] - 13s 2ms/step - loss: 0.0788 - prc: 0.9961 - val_loss: 0.0371 - val_prc: 0.9992\n",
      "Epoch 38/1000\n",
      "8529/8529 [==============================] - 13s 2ms/step - loss: 0.0805 - prc: 0.9960 - val_loss: 0.0356 - val_prc: 0.9993\n"
     ]
    },
    {
     "name": "stderr",
     "output_type": "stream",
     "text": [
      "\r",
      "4it [30:52, 478.74s/it]"
     ]
    },
    {
     "name": "stdout",
     "output_type": "stream",
     "text": [
      "Epoch 1/1000\n",
      "8529/8529 [==============================] - 14s 2ms/step - loss: 0.1822 - prc: 0.9801 - val_loss: 0.1294 - val_prc: 0.9911\n",
      "Epoch 2/1000\n",
      "8529/8529 [==============================] - 13s 2ms/step - loss: 0.1431 - prc: 0.9876 - val_loss: 0.1013 - val_prc: 0.9943\n",
      "Epoch 3/1000\n",
      "8529/8529 [==============================] - 14s 2ms/step - loss: 0.1295 - prc: 0.9898 - val_loss: 0.0891 - val_prc: 0.9960\n",
      "Epoch 4/1000\n",
      "8529/8529 [==============================] - 14s 2ms/step - loss: 0.1212 - prc: 0.9912 - val_loss: 0.0791 - val_prc: 0.9967\n",
      "Epoch 5/1000\n",
      "8529/8529 [==============================] - 14s 2ms/step - loss: 0.1139 - prc: 0.9922 - val_loss: 0.0715 - val_prc: 0.9974\n",
      "Epoch 6/1000\n",
      "8529/8529 [==============================] - 14s 2ms/step - loss: 0.1105 - prc: 0.9928 - val_loss: 0.0665 - val_prc: 0.9977\n",
      "Epoch 7/1000\n",
      "8529/8529 [==============================] - 14s 2ms/step - loss: 0.1060 - prc: 0.9933 - val_loss: 0.0616 - val_prc: 0.9981\n",
      "Epoch 8/1000\n",
      "8529/8529 [==============================] - 14s 2ms/step - loss: 0.1017 - prc: 0.9938 - val_loss: 0.0580 - val_prc: 0.9981\n",
      "Epoch 9/1000\n",
      "8529/8529 [==============================] - 14s 2ms/step - loss: 0.0990 - prc: 0.9941 - val_loss: 0.0572 - val_prc: 0.9983\n",
      "Epoch 10/1000\n",
      "8529/8529 [==============================] - 15s 2ms/step - loss: 0.0971 - prc: 0.9943 - val_loss: 0.0522 - val_prc: 0.9984\n",
      "Epoch 11/1000\n",
      "8529/8529 [==============================] - 15s 2ms/step - loss: 0.0946 - prc: 0.9946 - val_loss: 0.0506 - val_prc: 0.9985\n",
      "Epoch 12/1000\n",
      "8529/8529 [==============================] - 14s 2ms/step - loss: 0.0928 - prc: 0.9948 - val_loss: 0.0484 - val_prc: 0.9987\n",
      "Epoch 13/1000\n",
      "8529/8529 [==============================] - 14s 2ms/step - loss: 0.0912 - prc: 0.9949 - val_loss: 0.0486 - val_prc: 0.9986\n",
      "Epoch 14/1000\n",
      "8529/8529 [==============================] - 14s 2ms/step - loss: 0.0901 - prc: 0.9951 - val_loss: 0.0446 - val_prc: 0.9988\n",
      "Epoch 15/1000\n",
      "8529/8529 [==============================] - 14s 2ms/step - loss: 0.0892 - prc: 0.9952 - val_loss: 0.0452 - val_prc: 0.9988\n",
      "Epoch 16/1000\n",
      "8529/8529 [==============================] - 14s 2ms/step - loss: 0.0874 - prc: 0.9953 - val_loss: 0.0450 - val_prc: 0.9987\n",
      "Epoch 17/1000\n",
      "8529/8529 [==============================] - 14s 2ms/step - loss: 0.0882 - prc: 0.9953 - val_loss: 0.0438 - val_prc: 0.9989\n",
      "Epoch 18/1000\n",
      "8529/8529 [==============================] - 14s 2ms/step - loss: 0.0868 - prc: 0.9954 - val_loss: 0.0439 - val_prc: 0.9989\n",
      "Epoch 19/1000\n",
      "8529/8529 [==============================] - 14s 2ms/step - loss: 0.0858 - prc: 0.9955 - val_loss: 0.0408 - val_prc: 0.9990\n",
      "Epoch 20/1000\n",
      "8529/8529 [==============================] - 14s 2ms/step - loss: 0.0865 - prc: 0.9954 - val_loss: 0.0404 - val_prc: 0.9990\n",
      "Epoch 21/1000\n",
      "8529/8529 [==============================] - 14s 2ms/step - loss: 0.0852 - prc: 0.9955 - val_loss: 0.0430 - val_prc: 0.9991\n",
      "Epoch 22/1000\n",
      "8529/8529 [==============================] - 14s 2ms/step - loss: 0.0840 - prc: 0.9956 - val_loss: 0.0423 - val_prc: 0.9990\n",
      "Epoch 23/1000\n",
      "8529/8529 [==============================] - 14s 2ms/step - loss: 0.0841 - prc: 0.9956 - val_loss: 0.0401 - val_prc: 0.9991\n",
      "Epoch 24/1000\n",
      "8529/8529 [==============================] - 14s 2ms/step - loss: 0.0832 - prc: 0.9958 - val_loss: 0.0393 - val_prc: 0.9991\n",
      "Epoch 25/1000\n",
      "8529/8529 [==============================] - 14s 2ms/step - loss: 0.0841 - prc: 0.9957 - val_loss: 0.0411 - val_prc: 0.9990\n",
      "Epoch 26/1000\n",
      "8529/8529 [==============================] - 14s 2ms/step - loss: 0.0821 - prc: 0.9958 - val_loss: 0.0394 - val_prc: 0.9991\n",
      "Epoch 27/1000\n",
      "8529/8529 [==============================] - 14s 2ms/step - loss: 0.0811 - prc: 0.9959 - val_loss: 0.0380 - val_prc: 0.9991\n",
      "Epoch 28/1000\n",
      "8529/8529 [==============================] - 14s 2ms/step - loss: 0.0822 - prc: 0.9958 - val_loss: 0.0406 - val_prc: 0.9990\n",
      "Epoch 29/1000\n",
      "8529/8529 [==============================] - 14s 2ms/step - loss: 0.0805 - prc: 0.9959 - val_loss: 0.0385 - val_prc: 0.9991\n",
      "Epoch 30/1000\n",
      "8529/8529 [==============================] - 14s 2ms/step - loss: 0.0806 - prc: 0.9960 - val_loss: 0.0379 - val_prc: 0.9992\n",
      "Epoch 31/1000\n",
      "8529/8529 [==============================] - 14s 2ms/step - loss: 0.0796 - prc: 0.9961 - val_loss: 0.0364 - val_prc: 0.9992\n",
      "Epoch 32/1000\n",
      "8529/8529 [==============================] - 14s 2ms/step - loss: 0.0804 - prc: 0.9960 - val_loss: 0.0360 - val_prc: 0.9992\n",
      "Epoch 33/1000\n",
      "8529/8529 [==============================] - 14s 2ms/step - loss: 0.0795 - prc: 0.9961 - val_loss: 0.0373 - val_prc: 0.9992\n",
      "Epoch 34/1000\n",
      "8529/8529 [==============================] - 14s 2ms/step - loss: 0.0796 - prc: 0.9960 - val_loss: 0.0369 - val_prc: 0.9992\n",
      "Epoch 35/1000\n",
      "8529/8529 [==============================] - 14s 2ms/step - loss: 0.0790 - prc: 0.9961 - val_loss: 0.0357 - val_prc: 0.9992\n",
      "Epoch 36/1000\n",
      "8529/8529 [==============================] - 14s 2ms/step - loss: 0.0798 - prc: 0.9960 - val_loss: 0.0340 - val_prc: 0.9992\n",
      "Epoch 37/1000\n",
      "8529/8529 [==============================] - 14s 2ms/step - loss: 0.0778 - prc: 0.9962 - val_loss: 0.0363 - val_prc: 0.9992\n",
      "Epoch 38/1000\n",
      "8529/8529 [==============================] - 14s 2ms/step - loss: 0.0789 - prc: 0.9961 - val_loss: 0.0386 - val_prc: 0.9992\n",
      "Epoch 39/1000\n",
      "8529/8529 [==============================] - 14s 2ms/step - loss: 0.0794 - prc: 0.9961 - val_loss: 0.0339 - val_prc: 0.9992\n",
      "Epoch 40/1000\n",
      "8529/8529 [==============================] - 14s 2ms/step - loss: 0.0779 - prc: 0.9962 - val_loss: 0.0350 - val_prc: 0.9993\n",
      "Epoch 41/1000\n",
      "8529/8529 [==============================] - 14s 2ms/step - loss: 0.0791 - prc: 0.9961 - val_loss: 0.0348 - val_prc: 0.9992\n",
      "Epoch 42/1000\n",
      "8529/8529 [==============================] - 14s 2ms/step - loss: 0.0771 - prc: 0.9962 - val_loss: 0.0344 - val_prc: 0.9993\n",
      "Epoch 43/1000\n",
      "8529/8529 [==============================] - 14s 2ms/step - loss: 0.0770 - prc: 0.9962 - val_loss: 0.0346 - val_prc: 0.9993\n",
      "Epoch 44/1000\n",
      "8529/8529 [==============================] - 14s 2ms/step - loss: 0.0780 - prc: 0.9962 - val_loss: 0.0343 - val_prc: 0.9992\n"
     ]
    },
    {
     "name": "stderr",
     "output_type": "stream",
     "text": [
      "5it [41:11, 494.20s/it]"
     ]
    },
    {
     "name": "stdout",
     "output_type": "stream",
     "text": [
      "Wall time: 41min 11s\n"
     ]
    },
    {
     "name": "stderr",
     "output_type": "stream",
     "text": [
      "\n"
     ]
    },
    {
     "data": {
      "text/plain": [
       "<matplotlib.legend.Legend at 0x1c80ac1b688>"
      ]
     },
     "execution_count": 58,
     "metadata": {},
     "output_type": "execute_result"
    },
    {
     "data": {
      "image/png": "[encoded data removed]",
      "text/plain": [
       "<Figure size 576x396 with 1 Axes>"
      ]
     },
     "metadata": {},
     "output_type": "display_data"
    }
   ],
   "source": [
    "%%time\n",
    "focal_loss = tfa.losses.SigmoidFocalCrossEntropy(alpha=1, gamma=10)\n",
    "epochs_ = 1000\n",
    "batch_size_ = 25\n",
    "callback = keras.callbacks.EarlyStopping(monitor='val_loss', patience=5)\n",
    "\n",
    "METRICS = [\n",
    "      keras.metrics.TruePositives(name='tp'),\n",
    "      keras.metrics.FalsePositives(name='fp'),\n",
    "      keras.metrics.TrueNegatives(name='tn'),\n",
    "      keras.metrics.FalseNegatives(name='fn'),\n",
    "      keras.metrics.Precision(name='precision'),\n",
    "      keras.metrics.Recall(name='recall'),\n",
    "      keras.metrics.AUC(name='auc'),\n",
    "      keras.metrics.AUC(name='prc', curve='PR'), # precision-recall curve\n",
    "]\n",
    "\n",
    "accuracies = []\n",
    "histories = []\n",
    "for train_index, valid_index in tqdm(skf.split(X_smote, y_smote)):\n",
    "    X_strat_train, X_validation = X_smote[train_index], X_smote[valid_index]\n",
    "    y_strat_train, y_validation = y_smote[train_index], y_smote[valid_index]\n",
    "\n",
    "    nn = keras.Sequential([\n",
    "        keras.layers.BatchNormalization(),\n",
    "        keras.layers.Dense(256, activation=\"relu\"),\n",
    "        keras.layers.Dropout(0.4),\n",
    "        keras.layers.Dense(128, activation='relu'),\n",
    "        keras.layers.Dropout(0.4),\n",
    "        keras.layers.Dense(64, activation='relu'),\n",
    "        keras.layers.Dense(1, activation=\"sigmoid\"),\n",
    "    ])\n",
    "\n",
    "\n",
    "    nn.compile(optimizer=keras.optimizers.Adam(learning_rate=0.0001), #'binary_crossentropy'\n",
    "               loss='binary_crossentropy',\n",
    "               metrics=[keras.metrics.AUC(name='prc', curve='PR')])\n",
    "    \n",
    "    history = nn.fit(X_train, y_train, validation_data=(X_validation, y_validation), epochs=epochs_, \n",
    "                     batch_size=batch_size_, callbacks=[callback])\n",
    "    histories.append(history)\n",
    "    accuracies.append(AUC_PR(nn.predict(X_test)))\n",
    "    \n",
    "plt.plot(history.history['loss'], label=\"loss\")\n",
    "plt.plot(history.history['val_loss'], '--', label=\"val loss\")\n",
    "plt.legend()"
   ]
  },
  {
   "cell_type": "code",
   "execution_count": 73,
   "metadata": {},
   "outputs": [],
   "source": [
    "losses = [np.array(x.history['loss']) for x in histories]"
   ]
  },
  {
   "cell_type": "code",
   "execution_count": 78,
   "metadata": {},
   "outputs": [
    {
     "data": {
      "text/plain": [
       "0.7521233862758236"
      ]
     },
     "execution_count": 78,
     "metadata": {},
     "output_type": "execute_result"
    }
   ],
   "source": [
    "np.mean(accuracies)"
   ]
  },
  {
   "cell_type": "code",
   "execution_count": 45,
   "metadata": {},
   "outputs": [
    {
     "data": {
      "text/plain": [
       "Text(0.5, 1.0, 'Binary Crossentropy loss')"
      ]
     },
     "execution_count": 45,
     "metadata": {},
     "output_type": "execute_result"
    },
    {
     "data": {
      "image/png": "[encoded data removed]",
      "text/plain": [
       "<Figure size 576x396 with 1 Axes>"
      ]
     },
     "metadata": {},
     "output_type": "display_data"
    }
   ],
   "source": [
    "plt.plot(history.history['loss'], label=\"Training Loss\")\n",
    "plt.plot(history.history['val_loss'], '--', label=\"Validation Loss\")\n",
    "plt.legend()\n",
    "plt.title(\"Binary Crossentropy loss\")"
   ]
  },
  {
   "cell_type": "code",
   "execution_count": 55,
   "metadata": {},
   "outputs": [
    {
     "data": {
      "text/plain": [
       "0.7705095177815201"
      ]
     },
     "execution_count": 55,
     "metadata": {},
     "output_type": "execute_result"
    },
    {
     "data": {
      "image/png": "[encoded data removed]",
      "text/plain": [
       "<Figure size 576x396 with 1 Axes>"
      ]
     },
     "metadata": {},
     "output_type": "display_data"
    }
   ],
   "source": [
    "create_pr_curve(nn.predict(X_test), y_test, label=\"NN\", title=\"Precision-Recall Curve\")\n",
    "create_roc_curve(nn.predict(X_test), y_test, label=\"NN\", title=\"Precision-Recall Curve\")\n",
    "AUC_PR(nn.predict(X_test))"
   ]
  },
  {
   "cell_type": "code",
   "execution_count": 172,
   "metadata": {},
   "outputs": [
    {
     "data": {
      "text/plain": [
       "array([[1.4218688e-04],\n",
       "       [1.2143117e-06],\n",
       "       [2.0139258e-05],\n",
       "       ...,\n",
       "       [2.2586777e-05],\n",
       "       [3.7044287e-04],\n",
       "       [2.6144360e-05]], dtype=float32)"
      ]
     },
     "execution_count": 172,
     "metadata": {},
     "output_type": "execute_result"
    }
   ],
   "source": [
    "nn.predict(X_test)"
   ]
  },
  {
   "cell_type": "code",
   "execution_count": 156,
   "metadata": {},
   "outputs": [
    {
     "data": {
      "text/plain": [
       "[0.5168852210044861,\n",
       " 0.5410658717155457,\n",
       " 0.5346726179122925,\n",
       " 0.4704974889755249,\n",
       " 0.4345034062862396,\n",
       " 0.4164983332157135]"
      ]
     },
     "execution_count": 156,
     "metadata": {},
     "output_type": "execute_result"
    }
   ],
   "source": [
    "history.history['prc']"
   ]
  },
  {
   "cell_type": "code",
   "execution_count": 157,
   "metadata": {},
   "outputs": [
    {
     "name": "stdout",
     "output_type": "stream",
     "text": [
      "2226/2226 [==============================] - 1s 640us/step - loss: 0.0000e+00 - prc: 0.0000e+00\n"
     ]
    },
    {
     "data": {
      "text/plain": [
       "[0.0, 0.0]"
      ]
     },
     "execution_count": 157,
     "metadata": {},
     "output_type": "execute_result"
    }
   ],
   "source": [
    "nn.evaluate(X_test)"
   ]
  },
  {
   "cell_type": "code",
   "execution_count": 149,
   "metadata": {},
   "outputs": [
    {
     "data": {
      "text/plain": [
       "[<matplotlib.lines.Line2D at 0x218f197c288>]"
      ]
     },
     "execution_count": 149,
     "metadata": {},
     "output_type": "execute_result"
    },
    {
     "data": {
      "image/png": "[encoded data removed]",
      "text/plain": [
       "<Figure size 576x396 with 1 Axes>"
      ]
     },
     "metadata": {},
     "output_type": "display_data"
    }
   ],
   "source": [
    "plt.plot(history.history['val_loss'], label=\"val loss\")"
   ]
  },
  {
   "cell_type": "code",
   "execution_count": 122,
   "metadata": {},
   "outputs": [
    {
     "data": {
      "text/plain": [
       "{'activation': 'relu',\n",
       " 'alpha': 0.0001,\n",
       " 'batch_size': 'auto',\n",
       " 'beta_1': 0.9,\n",
       " 'beta_2': 0.999,\n",
       " 'early_stopping': False,\n",
       " 'epsilon': 1e-08,\n",
       " 'hidden_layer_sizes': [1000, 200],\n",
       " 'learning_rate': 'constant',\n",
       " 'learning_rate_init': 0.001,\n",
       " 'max_fun': 15000,\n",
       " 'max_iter': 200,\n",
       " 'momentum': 0.9,\n",
       " 'n_iter_no_change': 10,\n",
       " 'nesterovs_momentum': True,\n",
       " 'power_t': 0.5,\n",
       " 'random_state': 42,\n",
       " 'shuffle': True,\n",
       " 'solver': 'adam',\n",
       " 'tol': 0.0001,\n",
       " 'validation_fraction': 0.1,\n",
       " 'verbose': False,\n",
       " 'warm_start': False}"
      ]
     },
     "execution_count": 122,
     "metadata": {},
     "output_type": "execute_result"
    }
   ],
   "source": [
    "mlp.get_params()"
   ]
  },
  {
   "cell_type": "code",
   "execution_count": 119,
   "metadata": {},
   "outputs": [
    {
     "name": "stdout",
     "output_type": "stream",
     "text": [
      " performance metrics:\n",
      "-=-=-=-=-=-\n",
      "Raw accuracy (bad metric): 0.9989887924496503\n",
      "False negatives: 21\n",
      "False positives: 51\n",
      "True positives: 60\n",
      "F1 score: 0.625\n",
      "AUPRC: 0.660891641643524\n",
      "AUC ROC: 0.9598326013062055\n",
      "Average Precision Score: 0.6622137705085297\n",
      "Mean Score for Metrics: 0.7269845033645649\n",
      "\n"
     ]
    },
    {
     "data": {
      "text/plain": [
       "[0.625,\n",
       " 0.660891641643524,\n",
       " 0.9598326013062055,\n",
       " 0.6622137705085297,\n",
       " 0.7269845033645649]"
      ]
     },
     "execution_count": 119,
     "metadata": {},
     "output_type": "execute_result"
    }
   ],
   "source": [
    "evaluate_model(lrg, verbose=True)"
   ]
  },
  {
   "cell_type": "code",
   "execution_count": 17,
   "metadata": {},
   "outputs": [],
   "source": [
    "def plot_roc_cur(fper, tper, label=\"\", title=\"plot title\"):\n",
    "    plt.plot(fper, tper, label=label)\n",
    "    plt.plot([0, 1], [0, 1], color='darkblue', linestyle='--')\n",
    "    plt.xlabel('False Positive Rate')\n",
    "    plt.ylabel('True Positive Rate')\n",
    "    plt.title(title)\n",
    "    plt.legend(loc='lower right')\n",
    "    \n",
    "def create_roc_curve(preds, targets, label=\"\", title=\"\"):\n",
    "    all_fpr, all_tpr = [], []\n",
    "    fpr, tpr, thresholds = roc_curve(targets, preds)\n",
    "    all_fpr.append(fpr)\n",
    "    all_tpr.append(tpr)\n",
    "    all_fpr = np.array(all_fpr)\n",
    "    all_tpr = np.array(tpr)\n",
    "    \n",
    "    plot_roc_cur(all_fpr[0], all_tpr, label=label, title=title)"
   ]
  },
  {
   "cell_type": "code",
   "execution_count": 175,
   "metadata": {},
   "outputs": [
    {
     "data": {
      "image/png": "[encoded data removed]",
      "text/plain": [
       "<Figure size 576x396 with 1 Axes>"
      ]
     },
     "metadata": {},
     "output_type": "display_data"
    }
   ],
   "source": [
    "create_roc_curve(lrg.predict_proba(X_test)[:,1], y_test, label=\"Logistic Regression\")\n",
    "#create_roc_curve(svc.predict_proba(X_test)[:,1], y_test, label=\"Support Vector Classifier\")\n",
    "create_roc_curve(rfc.predict_proba(X_test)[:,1], y_test, label=\"Random Forest\")\n",
    "create_roc_curve(nb.predict_proba(X_test)[:,1], y_test, label=\"Naïve Bayes\")\n",
    "create_roc_curve(mlp.predict_proba(X_test)[:,1], y_test, label=\"Multilayer Perceptron\")\n",
    "create_roc_curve(nn.predict(X_test), y_test, label=\"Neural Network\")"
   ]
  },
  {
   "cell_type": "markdown",
   "metadata": {},
   "source": [
    "## Precicion Recall Curve"
   ]
  },
  {
   "cell_type": "code",
   "execution_count": 16,
   "metadata": {},
   "outputs": [],
   "source": [
    "def plot_pr_cur(p, r, label=\"\", title=\"plot title\"):\n",
    "    plt.plot(r, p, label=label)\n",
    "    plt.xlabel('Recall')\n",
    "    plt.ylabel('Precision')\n",
    "    plt.title(title)\n",
    "    plt.legend(loc='best')\n",
    "    \n",
    "def create_pr_curve(preds, targets, label=\"\", title=\"\"):\n",
    "    all_p, all_r = [], []\n",
    "    p, r, thresholds = precision_recall_curve(targets, preds)\n",
    "    all_p.append(p)\n",
    "    all_r.append(r)\n",
    "    all_p = np.array(p)\n",
    "    all_r = np.array(r)\n",
    "    \n",
    "    plot_pr_cur(all_p, all_r, label=label, title=title)"
   ]
  },
  {
   "cell_type": "code",
   "execution_count": null,
   "metadata": {},
   "outputs": [],
   "source": [
    "create_pr_curve(lrg_preds['all'][:,1], y_test, label=\"Logistic Regression\")\n",
    "create_pr_curve(mlp_preds['all'][:,1], y_test, label=\"Multilayer Perceptron\")\n",
    "create_pr_curve(rfc_preds['all'][:,1], y_test, label=\"Random Forest\")\n",
    "create_pr_curve(nbc_preds['all'][:,1], y_test, label=\"Naive Bayes\")\n",
    "create_pr_curve(dum_preds['all'][:,1], y_test, label=\"Baseline\", title=\"Precision-Recall Curve\")\n",
    "\n",
    "\n",
    "create_pr_curve(nn.predict(X_test), y_test, label=\"NN\")"
   ]
  },
  {
   "cell_type": "code",
   "execution_count": 115,
   "metadata": {},
   "outputs": [
    {
     "data": {
      "text/plain": [
       "array([[0.5, 0.5],\n",
       "       [0.5, 0.5],\n",
       "       [0.5, 0.5],\n",
       "       ...,\n",
       "       [0.5, 0.5],\n",
       "       [0.5, 0.5],\n",
       "       [0.5, 0.5]])"
      ]
     },
     "execution_count": 115,
     "metadata": {},
     "output_type": "execute_result"
    }
   ],
   "source": [
    "baseline_preds['all']"
   ]
  },
  {
   "cell_type": "code",
   "execution_count": 118,
   "metadata": {},
   "outputs": [
    {
     "data": {
      "image/png": "[encoded data removed]",
      "text/plain": [
       "<Figure size 576x396 with 1 Axes>"
      ]
     },
     "metadata": {},
     "output_type": "display_data"
    }
   ],
   "source": [
    "create_roc_curve(baseline_preds['all'][:,1], y_test, label=\"Baseline\", title=\"Precision-Recall Curve\")"
   ]
  },
  {
   "cell_type": "code",
   "execution_count": null,
   "metadata": {},
   "outputs": [],
   "source": []
  }
 ],
 "metadata": {
  "kernelspec": {
   "display_name": "Python 3",
   "language": "python",
   "name": "python3"
  },
  "language_info": {
   "codemirror_mode": {
    "name": "ipython",
    "version": 3
   },
   "file_extension": ".py",
   "mimetype": "text/x-python",
   "name": "python",
   "nbconvert_exporter": "python",
   "pygments_lexer": "ipython3",
   "version": "3.7.4"
  }
 },
 "nbformat": 4,
 "nbformat_minor": 2
}
